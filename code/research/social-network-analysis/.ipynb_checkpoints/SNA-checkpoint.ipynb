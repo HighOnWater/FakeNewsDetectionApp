{
 "cells": [
  {
   "cell_type": "markdown",
   "metadata": {},
   "source": [
    "## Social Network Analysis"
   ]
  },
  {
   "cell_type": "code",
   "execution_count": 2,
   "metadata": {},
   "outputs": [],
   "source": [
    "import tweepy\n",
    "consumer_key = \"YrlvTaYmfUFw6C3OnapAKiuaM\"\n",
    "consumer_secret = \"QUZXmYYyyugyuT3GMNoOOxtTAst9fbWziGhcNsejDdsDU5tIbL\"\n",
    "access_token = \"795922562546970624-6S2XzPe9K2gNrHphl3OUS1tjIgIh8rQ\"\n",
    "access_token_secret = \"bfDz7r938dbfdfJai974vcQBeENz32VD8C4eBGZ71OECy\""
   ]
  },
  {
   "cell_type": "code",
   "execution_count": 3,
   "metadata": {},
   "outputs": [],
   "source": [
    "auth = tweepy.OAuthHandler(consumer_key, consumer_secret)\n",
    "auth.set_access_token(access_token, access_token_secret)"
   ]
  },
  {
   "cell_type": "code",
   "execution_count": 4,
   "metadata": {},
   "outputs": [],
   "source": [
    "api = tweepy.API(auth)"
   ]
  },
  {
   "cell_type": "code",
   "execution_count": 5,
   "metadata": {},
   "outputs": [],
   "source": [
    "public_tweets = api.home_timeline()\n",
    "for tweet in public_tweets:\n",
    "    print(tweet.text)"
   ]
  },
  {
   "cell_type": "markdown",
   "metadata": {},
   "source": [
    "## Featching Twitter Data"
   ]
  },
  {
   "cell_type": "code",
   "execution_count": 10,
   "metadata": {},
   "outputs": [
    {
     "data": {
      "text/plain": [
       "tweepy.models.User"
      ]
     },
     "execution_count": 10,
     "metadata": {},
     "output_type": "execute_result"
    }
   ],
   "source": [
    "user_name = \"JohnCena\"\n",
    "users = api.lookup_users(screen_names=[user_name])\n",
    "user = users[0]\n",
    "type(user)"
   ]
  },
  {
   "cell_type": "code",
   "execution_count": 13,
   "metadata": {
    "scrolled": true
   },
   "outputs": [
    {
     "name": "stdout",
     "output_type": "stream",
     "text": [
      "Tweet (RT Count: 17) : \n",
      "\tThe poster for @BumblebeeMovie is here... which means we’re getting close to everyone being able to enjoy it!!! I c… https://t.co/tyZHsAeBpG\n",
      "\n",
      "Tweet (RT Count: 18) : \n",
      "\tThese next few days we give thanks and recognize all those who take the oath to make the ultimate sacrifice for ina… https://t.co/TLU3p9pvvQ\n",
      "\n",
      "Tweet (RT Count: 20) : \n",
      "\tCannot wait to bring #ElbowGrease to LA! Share the excitement and fun of this wonderful story on December 10th at 7… https://t.co/TPdsWX4uR2\n",
      "\n",
      "Tweet (RT Count: 0) : \n",
      "\tRT @ReadBrightly: Vroom, vroom! It’s time for another episode of Brightly Storytime, our read-aloud video series for kids. Get your engines…\n",
      "\n",
      "Tweet (RT Count: 19) : \n",
      "\tDo not hold onto a poor decision just because you spent lots of time to make it.\n",
      "\n",
      "Tweet (RT Count: 17) : \n",
      "\tTaking an honest look at yourself should be done often and means coming to grips with some great, and some difficul… https://t.co/6PcpmNg2wt\n",
      "\n",
      "Tweet (RT Count: 17) : \n",
      "\tFor those out there who find themselves saying “I just want to be happy” remember to ask yourself what it is that m… https://t.co/WUOcafE5AG\n",
      "\n",
      "Tweet (RT Count: 18) : \n",
      "\tThe phrases “I love you”, “I’m sorry”, and “I forgive you” are extremely powerful when said with genuine meaning. I… https://t.co/O5XF7Y5F89\n",
      "\n",
      "Tweet (RT Count: 19) : \n",
      "\tTake accountability for your actions and choices. Know that not everyone will see your point of view. If you offend… https://t.co/6hCaIgYE9J\n",
      "\n",
      "Tweet (RT Count: 18) : \n",
      "\tThe “unknown” is a wild place because it is what is says. Many times our fear keeps us from experiencing the “unkno… https://t.co/O0KyRuP3cX\n",
      "\n"
     ]
    }
   ],
   "source": [
    "tweets = user.timeline()\n",
    "for i in range(10):\n",
    "    tweet = tweets[i]\n",
    "    print(\"Tweet (RT Count: {}) : \\n\\t{}\\n\".format(len(api.retweets(tweet.id)) , tweet.text))"
   ]
  },
  {
   "cell_type": "markdown",
   "metadata": {},
   "source": [
    "## Load Pretrained Model"
   ]
  },
  {
   "cell_type": "code",
   "execution_count": 111,
   "metadata": {},
   "outputs": [],
   "source": [
    "import pickle\n",
    "import numpy as np"
   ]
  },
  {
   "cell_type": "code",
   "execution_count": 200,
   "metadata": {},
   "outputs": [],
   "source": [
    "loaded_model = pickle.load(open(\"detecting-fake-accounts/fake_account_model.dat\", \"rb\"))\n",
    "model = loaded_model[\"classifier\"]\n",
    "scaler = loaded_model[\"scaler\"]"
   ]
  },
  {
   "cell_type": "code",
   "execution_count": 201,
   "metadata": {},
   "outputs": [],
   "source": [
    "useful_columns = [\"statuses_count\", \"followers_count\", \"friends_count\", \"favourites_count\", \"listed_count\", \"default_profile\", \"profile_banner_url\", \"profile_background_tile\", \"profile_background_color\" ,\"verified\"]"
   ]
  },
  {
   "cell_type": "markdown",
   "metadata": {},
   "source": [
    "## Useful Columns\n",
    "- statuses_count\n",
    "- followers_count\n",
    "- friends_count\n",
    "- favourites_count\n",
    "- listed_count\n",
    "- default_profile\n",
    "- profile_banner_url\n",
    "- profile_background_tile\n",
    "- profile_background_color\n",
    "- verified"
   ]
  },
  {
   "cell_type": "code",
   "execution_count": 202,
   "metadata": {},
   "outputs": [],
   "source": [
    "def parse_tweet(user_details):\n",
    "    \"\"\" Parses user details for prediction \"\"\"\n",
    "    data = []\n",
    "    for col in useful_columns:\n",
    "        try:\n",
    "            val = getattr(user_details, col)\n",
    "            if isinstance(val, int):\n",
    "                data.append(val)\n",
    "            elif isinstance(val, bool):\n",
    "                if val is True:\n",
    "                    data.append(1)\n",
    "                else:\n",
    "                    data.append(0)\n",
    "            elif isinstance(val, str):\n",
    "                if col == 'profile_banner_url':\n",
    "                    if val:\n",
    "                        data.append(1)\n",
    "                    else:\n",
    "                        data.append(0)\n",
    "                elif col == 'profile_background_color':\n",
    "                    if val != 'C0DEED':\n",
    "                        data.append(1)\n",
    "                    else:\n",
    "                        data.append(0)\n",
    "        except:\n",
    "            data.append(0)\n",
    "    return np.array(data)"
   ]
  },
  {
   "cell_type": "code",
   "execution_count": 203,
   "metadata": {
    "scrolled": true
   },
   "outputs": [
    {
     "name": "stdout",
     "output_type": "stream",
     "text": [
      "attribute : statuses_count, value : 5894, type : <class 'int'>\n",
      "attribute : followers_count, value : 11424626, type : <class 'int'>\n",
      "attribute : friends_count, value : 2865, type : <class 'int'>\n",
      "attribute : favourites_count, value : 6, type : <class 'int'>\n",
      "attribute : listed_count, value : 33512, type : <class 'int'>\n",
      "attribute : default_profile, value : False, type : <class 'bool'>\n",
      "attribute : profile_banner_url, value : https://pbs.twimg.com/profile_banners/141664648/1539882540, type : <class 'str'>\n",
      "attribute : profile_background_tile, value : False, type : <class 'bool'>\n",
      "attribute : profile_background_color, value : 000000, type : <class 'str'>\n",
      "attribute : verified, value : True, type : <class 'bool'>\n"
     ]
    }
   ],
   "source": [
    "for col in useful_columns:\n",
    "    val = getattr(tweet.user, col)\n",
    "    print(\"attribute : {}, value : {}, type : {}\".format(col, val, type(val)))"
   ]
  },
  {
   "cell_type": "code",
   "execution_count": 205,
   "metadata": {
    "scrolled": true
   },
   "outputs": [
    {
     "name": "stdout",
     "output_type": "stream",
     "text": [
      "5894\n",
      "11424626\n",
      "2865\n",
      "6\n",
      "33512\n",
      "0\n",
      "1\n",
      "0\n",
      "1\n",
      "1\n"
     ]
    }
   ],
   "source": [
    "parsed_tweet = parse_tweet(tweet.user)\n",
    "print(*parsed_tweet, sep='\\n')"
   ]
  },
  {
   "cell_type": "code",
   "execution_count": 220,
   "metadata": {},
   "outputs": [
    {
     "name": "stdout",
     "output_type": "stream",
     "text": [
      "[[1.47514109e-02 1.15770142e+01 6.18656878e-02 1.91110800e-05\n",
      "  5.43496594e+00 0.00000000e+00 1.00000000e+00 0.00000000e+00\n",
      "  1.00000000e+00 1.00000000e+00]]\n"
     ]
    },
    {
     "data": {
      "text/plain": [
       "array([[0.39707208, 0.60292792]])"
      ]
     },
     "execution_count": 220,
     "metadata": {},
     "output_type": "execute_result"
    }
   ],
   "source": [
    "scaled_tweet = scaler.transform(parsed_tweet.reshape(1, -1))\n",
    "print(scaled_tweet)\n",
    "model.predict_proba(scaled_tweet)"
   ]
  },
  {
   "cell_type": "code",
   "execution_count": 221,
   "metadata": {},
   "outputs": [],
   "source": [
    "class FakeNewsPredictor():\n",
    "    \n",
    "    def __init__(self, useful_columns, model_path):\n",
    "        self._useful_columns = useful_columns\n",
    "        self._model_path = model_path\n",
    "        self._load_model()\n",
    "        \n",
    "    def _load_model(self):\n",
    "        import pickle\n",
    "        model = pickle.load(open(self._model_path, \"rb\"))\n",
    "        self._classifier = model[\"classifier\"]\n",
    "        self._scaler = model[\"scaler\"]\n",
    "    \n",
    "    def predict(self, users_details):\n",
    "        fake_news_prob = 0\n",
    "        fake_users = []\n",
    "        for user in users_details:\n",
    "            user = self._parse_details(user)\n",
    "            user = self._scaler.transform(user)\n",
    "            probabilities = self._classifier.predict_proba(user)\n",
    "            fake_news_prob *= probabilities[0][0]\n",
    "            if np.argmax(probabilities[0]) == 0:\n",
    "                fake_users.append(1)\n",
    "            else:\n",
    "                fake_users.append(0)\n",
    "        return fake_news_prob ** (1/len(users_details)), fake_users\n",
    "    \n",
    "    def _parse_details(self, details):\n",
    "        \"\"\" Parses user details for prediction \"\"\"\n",
    "        data = []\n",
    "        for column in self._useful_columns:\n",
    "            try:\n",
    "                value = getattr(details, column)\n",
    "                if value == False:\n",
    "                    data.append(0)\n",
    "                elif value == True:\n",
    "                    data.append(1)\n",
    "                else:\n",
    "                    data.append(int(value))\n",
    "            except:\n",
    "                # Detail not present\n",
    "                data.append(0)\n",
    "\n",
    "        return np.array(data).reshape(1, len(useful_columns))"
   ]
  },
  {
   "cell_type": "code",
   "execution_count": 222,
   "metadata": {},
   "outputs": [],
   "source": [
    "fakenewsmodel = FakeNewsPredictor(useful_columns, \"detecting-fake-accounts/fake_account_model.dat\")"
   ]
  },
  {
   "cell_type": "markdown",
   "metadata": {},
   "source": [
    "### Inference"
   ]
  },
  {
   "cell_type": "code",
   "execution_count": 227,
   "metadata": {},
   "outputs": [
    {
     "name": "stdout",
     "output_type": "stream",
     "text": [
      "The “unknown” is a wild place because it is what is says. Many times our fear keeps us from experiencing the “unkno… https://t.co/O0KyRuP3cX\n"
     ]
    }
   ],
   "source": [
    "print(tweet.text)"
   ]
  },
  {
   "cell_type": "code",
   "execution_count": 233,
   "metadata": {},
   "outputs": [],
   "source": [
    "retweets = api.retweets(tweet.id, count=100)"
   ]
  },
  {
   "cell_type": "code",
   "execution_count": 234,
   "metadata": {},
   "outputs": [
    {
     "data": {
      "text/plain": [
       "79"
      ]
     },
     "execution_count": 234,
     "metadata": {},
     "output_type": "execute_result"
    }
   ],
   "source": [
    "len(retweets)"
   ]
  },
  {
   "cell_type": "code",
   "execution_count": 235,
   "metadata": {
    "scrolled": false
   },
   "outputs": [],
   "source": [
    "users_details = [retweeter.user for retweeter in retweets]"
   ]
  },
  {
   "cell_type": "code",
   "execution_count": null,
   "metadata": {},
   "outputs": [],
   "source": []
  },
  {
   "cell_type": "code",
   "execution_count": 209,
   "metadata": {},
   "outputs": [],
   "source": [
    "op = fakenewsmodel.predict(users_details)"
   ]
  },
  {
   "cell_type": "code",
   "execution_count": 1,
   "metadata": {},
   "outputs": [
    {
     "ename": "NameError",
     "evalue": "name 'op' is not defined",
     "output_type": "error",
     "traceback": [
      "\u001b[0;31m---------------------------------------------------------------------------\u001b[0m",
      "\u001b[0;31mNameError\u001b[0m                                 Traceback (most recent call last)",
      "\u001b[0;32m<ipython-input-1-ef672a00c2e8>\u001b[0m in \u001b[0;36m<module>\u001b[0;34m()\u001b[0m\n\u001b[0;32m----> 1\u001b[0;31m \u001b[0mop\u001b[0m\u001b[0;34m[\u001b[0m\u001b[0;36m0\u001b[0m\u001b[0;34m]\u001b[0m\u001b[0;34m\u001b[0m\u001b[0m\n\u001b[0m",
      "\u001b[0;31mNameError\u001b[0m: name 'op' is not defined"
     ]
    }
   ],
   "source": [
    "op[0]"
   ]
  },
  {
   "cell_type": "code",
   "execution_count": 211,
   "metadata": {},
   "outputs": [
    {
     "data": {
      "text/plain": [
       "'georgewghanem'"
      ]
     },
     "execution_count": 211,
     "metadata": {},
     "output_type": "execute_result"
    }
   ],
   "source": [
    "users_details[79].screen_name"
   ]
  }
 ],
 "metadata": {
  "kernelspec": {
   "display_name": "FNC",
   "language": "python",
   "name": "fnc"
  },
  "language_info": {
   "codemirror_mode": {
    "name": "ipython",
    "version": 3
   },
   "file_extension": ".py",
   "mimetype": "text/x-python",
   "name": "python",
   "nbconvert_exporter": "python",
   "pygments_lexer": "ipython3",
   "version": "3.6.5"
  }
 },
 "nbformat": 4,
 "nbformat_minor": 2
}
