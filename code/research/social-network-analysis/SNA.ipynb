{
 "cells": [
  {
   "cell_type": "markdown",
   "metadata": {},
   "source": [
    "## Social Network Analysis"
   ]
  },
  {
   "cell_type": "code",
   "execution_count": 2,
   "metadata": {},
   "outputs": [],
   "source": [
    "import tweepy\n",
    "consumer_key = \"YrlvTaYmfUFw6C3OnapAKiuaM\"\n",
    "consumer_secret = \"QUZXmYYyyugyuT3GMNoOOxtTAst9fbWziGhcNsejDdsDU5tIbL\"\n",
    "access_token = \"795922562546970624-6S2XzPe9K2gNrHphl3OUS1tjIgIh8rQ\"\n",
    "access_token_secret = \"bfDz7r938dbfdfJai974vcQBeENz32VD8C4eBGZ71OECy\""
   ]
  },
  {
   "cell_type": "code",
   "execution_count": 3,
   "metadata": {},
   "outputs": [],
   "source": [
    "auth = tweepy.OAuthHandler(consumer_key, consumer_secret)\n",
    "auth.set_access_token(access_token, access_token_secret)"
   ]
  },
  {
   "cell_type": "code",
   "execution_count": 4,
   "metadata": {},
   "outputs": [],
   "source": [
    "api = tweepy.API(auth)"
   ]
  },
  {
   "cell_type": "code",
   "execution_count": 5,
   "metadata": {},
   "outputs": [],
   "source": [
    "public_tweets = api.home_timeline()\n",
    "for tweet in public_tweets:\n",
    "    print(tweet.text)"
   ]
  },
  {
   "cell_type": "markdown",
   "metadata": {},
   "source": [
    "## Featching Twitter Data"
   ]
  },
  {
   "cell_type": "code",
   "execution_count": 6,
   "metadata": {},
   "outputs": [
    {
     "data": {
      "text/plain": [
       "tweepy.models.User"
      ]
     },
     "execution_count": 6,
     "metadata": {},
     "output_type": "execute_result"
    }
   ],
   "source": [
    "user_name = \"JohnCena\"\n",
    "users = api.lookup_users(screen_names=[user_name])\n",
    "user = users[0]\n",
    "type(user)"
   ]
  },
  {
   "cell_type": "code",
   "execution_count": 7,
   "metadata": {
    "scrolled": false
   },
   "outputs": [
    {
     "name": "stdout",
     "output_type": "stream",
     "text": [
      "Tweet (RT Count: 625) : \n",
      "\tIt's almost here...#BumblebeeMovie hits theaters THIS THURSDAY! \n",
      "Get your tickets at https://t.co/bgJa0LgSof! https://t.co/ptwjYiTFi8\n",
      "\n",
      "Tweet (RT Count: 3363) : \n",
      "\tDon’t rush to find out “what you want to be when you grow up”. But when you do find out, give that goal everything… https://t.co/mZng7oQ9zO\n",
      "\n",
      "Tweet (RT Count: 2300) : \n",
      "\tWe are in a culture of speaking to get our point across. Actions, both immediate and long term, are the greatest de… https://t.co/LRFjSydVbK\n",
      "\n",
      "Tweet (RT Count: 738) : \n",
      "\tTonight was for “us.” The privilege we have to entertain fans young and old has opened to the possibilities of what… https://t.co/kY0Cg7zt3G\n",
      "\n",
      "Tweet (RT Count: 882) : \n",
      "\tRT @bumblebeemovie: In TEN DAYS, Bumblebee arrives. Get tickets now to experience the movie that critics and fans can't stop buzzing about,…\n",
      "\n",
      "Tweet (RT Count: 353) : \n",
      "\tThanks to everyone who attended last night @BNEventsGrove and to @BNBuzz for naming #ElbowGrease one of the best pi… https://t.co/RT08IcIiah\n",
      "\n",
      "Tweet (RT Count: 748) : \n",
      "\tHe’s real! Amazing time watching #BumblebeeMovie at the world premiere @ChineseTheatres in LA. Seeing Travis’ visio… https://t.co/E0KGBBv04T\n",
      "\n",
      "Tweet (RT Count: 1318) : \n",
      "\tWe are buzzing for the WORLD PREMIERE of #BumblebeeMovie! @bumblebeemovie https://t.co/VasTup6h97\n",
      "\n",
      "Tweet (RT Count: 899) : \n",
      "\tRT @bumblebeemovie: .@JohnCena is all smiles at the #BumblebeeMovie premiere! https://t.co/pEGsu9D3Rx\n",
      "\n",
      "Tweet (RT Count: 922) : \n",
      "\tHere with Bumblebee at the world premiere of #BumblebeeMovie! @bumblebeemovie https://t.co/OQCFlc767v\n",
      "\n"
     ]
    }
   ],
   "source": [
    "tweets = user.timeline()\n",
    "for i in range(10):\n",
    "    tweet = tweets[i]\n",
    "    print(\"Tweet (RT Count: {}) : \\n\\t{}\\n\".format(tweet.retweet_count , tweet.text))"
   ]
  },
  {
   "cell_type": "markdown",
   "metadata": {},
   "source": [
    "## Load Pretrained Model"
   ]
  },
  {
   "cell_type": "code",
   "execution_count": 8,
   "metadata": {},
   "outputs": [],
   "source": [
    "import pickle\n",
    "import numpy as np"
   ]
  },
  {
   "cell_type": "code",
   "execution_count": 9,
   "metadata": {},
   "outputs": [],
   "source": [
    "loaded_model = pickle.load(open(\"detecting-fake-accounts/F_vs_G_model.data\", \"rb\"))\n",
    "model = loaded_model[\"classifier\"]\n",
    "scaler = loaded_model[\"scaler\"]"
   ]
  },
  {
   "cell_type": "code",
   "execution_count": 10,
   "metadata": {},
   "outputs": [],
   "source": [
    "useful_columns = [\"statuses_count\", \"followers_count\", \"friends_count\", \"favourites_count\", \"listed_count\", \"default_profile\", \"profile_banner_url\", \"profile_background_tile\", \"profile_background_color\" ,\"verified\"]"
   ]
  },
  {
   "cell_type": "markdown",
   "metadata": {},
   "source": [
    "## Useful Columns\n",
    "- statuses_count\n",
    "- followers_count\n",
    "- friends_count\n",
    "- favourites_count\n",
    "- listed_count\n",
    "- default_profile\n",
    "- profile_banner_url\n",
    "- profile_background_tile\n",
    "- profile_background_color\n",
    "- verified"
   ]
  },
  {
   "cell_type": "code",
   "execution_count": 11,
   "metadata": {},
   "outputs": [],
   "source": [
    "def parse_tweet(user_details):\n",
    "    \"\"\" Parses user details for prediction \"\"\"\n",
    "    data = []\n",
    "    for col in useful_columns:\n",
    "        try:\n",
    "                val = getattr(user_details, col)\n",
    "                if isinstance(val, int):\n",
    "                    data.append(val)\n",
    "                elif isinstance(val, bool):\n",
    "                    if val is True:\n",
    "                        data.append(1)\n",
    "                    else:\n",
    "                        data.append(0)\n",
    "                elif isinstance(val, str):\n",
    "                    if col == 'profile_banner_url':\n",
    "                        if val:\n",
    "                            data.append(1)\n",
    "                        else:\n",
    "                            data.append(0)\n",
    "                    elif col == 'profile_background_color':\n",
    "                        if val != 'C0DEED':\n",
    "                            data.append(1)\n",
    "                        else:\n",
    "                            data.append(0)\n",
    "        except:\n",
    "                data.append(0)\n",
    "    return np.array(data)"
   ]
  },
  {
   "cell_type": "code",
   "execution_count": 12,
   "metadata": {
    "scrolled": false
   },
   "outputs": [
    {
     "name": "stdout",
     "output_type": "stream",
     "text": [
      "attribute : statuses_count, value : 5931\n",
      "attribute : followers_count, value : 11450831\n",
      "attribute : friends_count, value : 2879\n",
      "attribute : favourites_count, value : 7\n",
      "attribute : listed_count, value : 33534\n",
      "attribute : default_profile, value : False\n",
      "attribute : profile_banner_url, value : https://pbs.twimg.com/profile_banners/141664648/1539882540\n",
      "attribute : profile_background_tile, value : False\n",
      "attribute : profile_background_color, value : 000000\n",
      "attribute : verified, value : True\n"
     ]
    }
   ],
   "source": [
    "for col in useful_columns:\n",
    "    val = getattr(tweet.user, col)\n",
    "    print(\"attribute : {}, value : {}\".format(col, val))"
   ]
  },
  {
   "cell_type": "code",
   "execution_count": 13,
   "metadata": {},
   "outputs": [
    {
     "data": {
      "text/plain": [
       "'JohnCena'"
      ]
     },
     "execution_count": 13,
     "metadata": {},
     "output_type": "execute_result"
    }
   ],
   "source": [
    "tweet.user.screen_name"
   ]
  },
  {
   "cell_type": "code",
   "execution_count": 14,
   "metadata": {
    "scrolled": false
   },
   "outputs": [
    {
     "name": "stdout",
     "output_type": "stream",
     "text": [
      "5931\n",
      "11450831\n",
      "2879\n",
      "7\n",
      "33534\n",
      "0\n",
      "1\n",
      "0\n",
      "1\n",
      "1\n"
     ]
    }
   ],
   "source": [
    "parsed_tweet = parse_tweet(tweet.user)\n",
    "print(*parsed_tweet, sep='\\n')"
   ]
  },
  {
   "cell_type": "code",
   "execution_count": 15,
   "metadata": {},
   "outputs": [
    {
     "data": {
      "text/plain": [
       "array([[0.71018517, 0.28981483]], dtype=float32)"
      ]
     },
     "execution_count": 15,
     "metadata": {},
     "output_type": "execute_result"
    }
   ],
   "source": [
    "scaled_tweet = scaler.transform(parsed_tweet.reshape(1, -1))\n",
    "model.predict_proba(scaled_tweet)"
   ]
  },
  {
   "cell_type": "code",
   "execution_count": 16,
   "metadata": {},
   "outputs": [],
   "source": [
    "class FakeNewsPredictor():\n",
    "    \n",
    "    def __init__(self, useful_columns, model_path):\n",
    "        self._useful_columns = useful_columns\n",
    "        self._model_path = model_path\n",
    "        self._load_model()\n",
    "        \n",
    "    def _load_model(self):\n",
    "        import pickle\n",
    "        model = pickle.load(open(self._model_path, \"rb\"))\n",
    "        self._classifier = model[\"classifier\"]\n",
    "        self._scaler = model[\"scaler\"]\n",
    "    \n",
    "    def predict(self, users_details):\n",
    "        fake_news_prob = 1\n",
    "        fake_users = []\n",
    "        for user in users_details:\n",
    "            user = self._parse_details_v2(user)\n",
    "            user = self._scaler.transform(user)\n",
    "            probabilities = self._classifier.predict_proba(user)\n",
    "            fake_news_prob *= probabilities[0][0]\n",
    "            if np.argmax(probabilities[0]) == 0:\n",
    "                fake_users.append(1)\n",
    "            else:\n",
    "                fake_users.append(0)\n",
    "        return fake_news_prob ** (1/len(users_details)), fake_users\n",
    "    \n",
    "    def _parse_details_v1(self, details):\n",
    "        \"\"\" Parses user details for prediction \"\"\"\n",
    "        data = []\n",
    "        for column in self._useful_columns:\n",
    "            try:\n",
    "                value = getattr(details, column)\n",
    "                if value == False:\n",
    "                    data.append(0)\n",
    "                elif value == True:\n",
    "                    data.append(1)\n",
    "                else:\n",
    "                    data.append(int(value))\n",
    "            except:\n",
    "                # Detail not present\n",
    "                data.append(0)\n",
    "        return np.array(data).reshape(1, len(useful_columns))\n",
    "    \n",
    "    def _parse_details_v2(self, user_details):\n",
    "        \"\"\" Parses user details for prediction \"\"\"\n",
    "        data = []\n",
    "        for col in self._useful_columns:\n",
    "            try:\n",
    "                val = getattr(user_details, col)\n",
    "                if isinstance(val, int):\n",
    "                    data.append(val)\n",
    "                elif isinstance(val, bool):\n",
    "                    if val is True:\n",
    "                        data.append(1)\n",
    "                    else:\n",
    "                        data.append(0)\n",
    "                elif isinstance(val, str):\n",
    "                    if col == 'profile_banner_url':\n",
    "                        if val:\n",
    "                            data.append(1)\n",
    "                        else:\n",
    "                            data.append(0)\n",
    "                    elif col == 'profile_background_color':\n",
    "                        if val != 'C0DEED':\n",
    "                            data.append(1)\n",
    "                        else:\n",
    "                            data.append(0)\n",
    "            except:\n",
    "                data.append(0)\n",
    "        return np.array(data).reshape(1, -1)"
   ]
  },
  {
   "cell_type": "code",
   "execution_count": 17,
   "metadata": {},
   "outputs": [],
   "source": [
    "fakenewsmodel = FakeNewsPredictor(useful_columns, \"detecting-fake-accounts/fake_account_model.dat\")"
   ]
  },
  {
   "cell_type": "markdown",
   "metadata": {},
   "source": [
    "### Inference"
   ]
  },
  {
   "cell_type": "code",
   "execution_count": 18,
   "metadata": {},
   "outputs": [
    {
     "data": {
      "text/plain": [
       "'Tonight was for “us.” The privilege we have to entertain fans young and old has opened to the possibilities of what… https://t.co/kY0Cg7zt3G'"
      ]
     },
     "execution_count": 18,
     "metadata": {},
     "output_type": "execute_result"
    }
   ],
   "source": [
    "tweet = tweets[3]\n",
    "tweet.text"
   ]
  },
  {
   "cell_type": "code",
   "execution_count": 19,
   "metadata": {},
   "outputs": [],
   "source": [
    "retweets = api.retweets(tweet.id, count=1000)"
   ]
  },
  {
   "cell_type": "code",
   "execution_count": 20,
   "metadata": {},
   "outputs": [
    {
     "data": {
      "text/plain": [
       "87"
      ]
     },
     "execution_count": 20,
     "metadata": {},
     "output_type": "execute_result"
    }
   ],
   "source": [
    "len(retweets)"
   ]
  },
  {
   "cell_type": "code",
   "execution_count": 94,
   "metadata": {
    "scrolled": false
   },
   "outputs": [],
   "source": [
    "users_details = [retweeter.user for retweeter in retweets]"
   ]
  },
  {
   "cell_type": "code",
   "execution_count": 95,
   "metadata": {
    "scrolled": true
   },
   "outputs": [
    {
     "name": "stdout",
     "output_type": "stream",
     "text": [
      "0 : ManasBhattrai\n",
      "1 : lettuceleagu3\n",
      "2 : ImAddicted2WWE\n",
      "3 : JohnCeena1295\n",
      "4 : AustinAwesome7\n",
      "5 : WWE_THECHAMP\n",
      "6 : MsAartByHeart\n",
      "7 : satcenation\n",
      "8 : MelinaCenaFans\n",
      "9 : JayCabriole\n",
      "10 : AiganaeE\n",
      "11 : Deanpaigegirl12\n",
      "12 : TheGreatPickles\n",
      "13 : AaronCena150\n",
      "14 : BaKothiya\n",
      "15 : johncen_wwe\n",
      "16 : 1kamausamwel\n",
      "17 : SeYvSR4m5VSV9Bl\n",
      "18 : HarleyArvanitis\n",
      "19 : ewa7497\n",
      "20 : Yasharth0110163\n",
      "21 : Abhishek13Dubey\n",
      "22 : istathukku\n",
      "23 : pinkteddy_bella\n",
      "24 : MinHanVvV\n",
      "25 : M_S_Mish\n",
      "26 : Cbingham88\n",
      "27 : roxana_carrero\n",
      "28 : XXXCreepyDude\n",
      "29 : PikaXRich\n",
      "30 : bashora_89\n",
      "31 : Signedx_\n",
      "32 : Dekared1\n",
      "33 : KGB65FLY\n",
      "34 : Damian0122\n",
      "35 : jasmicaelista\n",
      "36 : dam8013\n",
      "37 : zahidpro90\n",
      "38 : JackHesselden\n",
      "39 : gjbsmal\n",
      "40 : Awadinho83\n",
      "41 : HunchoRinyo\n",
      "42 : jonathan_orbes\n",
      "43 : DavidRayvonne\n",
      "44 : NeftWWE\n",
      "45 : theamanofficial\n",
      "46 : SydneySK_\n",
      "47 : GTSfan4lif\n",
      "48 : NaomiFlynn14\n",
      "49 : vmhelm2\n",
      "50 : KaiseyF\n",
      "51 : DpXTV\n",
      "52 : Msami79979214\n",
      "53 : finn_devitt\n",
      "54 : tj_teddyrocks\n",
      "55 : JuanG012284\n",
      "56 : mody3189\n",
      "57 : AkshayChauhan0\n",
      "58 : kocev_filip7\n",
      "59 : MonseCtrss\n",
      "60 : chelweezzy\n",
      "61 : NellyBlys\n",
      "62 : AllanGomez24\n",
      "63 : tiger3195\n",
      "64 : Oshanfitness\n",
      "65 : shellymarie20_\n",
      "66 : ragul_cena\n",
      "67 : sajidcanfly\n",
      "68 : kalessin61\n",
      "69 : iLLMindOfNickB\n",
      "70 : ThatDudeShan\n",
      "71 : Underarmour3030\n",
      "72 : ChamithaV\n",
      "73 : SneakyPete26\n",
      "74 : matthewjdh_\n",
      "75 : BGKRao45\n",
      "76 : BornJanuary3\n",
      "77 : 8BallZen\n",
      "78 : slickmasterph\n",
      "79 : WWEGaneshCena\n",
      "80 : AbdulJawaad4\n",
      "81 : HaddixRussel\n",
      "82 : LungSusage\n",
      "83 : hsm_gen1\n",
      "84 : Donatog87\n",
      "85 : KingRuben16\n",
      "86 : topratedprods4u\n"
     ]
    }
   ],
   "source": [
    "for i, user in enumerate(users_details):\n",
    "    print(\"{} : {}\".format(i, user.screen_name))"
   ]
  },
  {
   "cell_type": "code",
   "execution_count": 96,
   "metadata": {
    "scrolled": true
   },
   "outputs": [],
   "source": [
    "prediction = fakenewsmodel.predict(users_details)"
   ]
  },
  {
   "cell_type": "code",
   "execution_count": 97,
   "metadata": {},
   "outputs": [
    {
     "data": {
      "text/plain": [
       "0.3188636335220946"
      ]
     },
     "execution_count": 97,
     "metadata": {},
     "output_type": "execute_result"
    }
   ],
   "source": [
    "prediction[0]"
   ]
  },
  {
   "cell_type": "code",
   "execution_count": 98,
   "metadata": {
    "scrolled": true
   },
   "outputs": [
    {
     "name": "stdout",
     "output_type": "stream",
     "text": [
      "Possible Fake Accounts\n",
      "3 : JohnCeena1295\n",
      "5 : WWE_THECHAMP\n"
     ]
    }
   ],
   "source": [
    "print('Possible Fake Accounts')\n",
    "for idx in range(len(users_details)):\n",
    "    if prediction[1][idx]:\n",
    "        print(\"{} : {}\".format(idx, users_details[idx].screen_name))"
   ]
  },
  {
   "cell_type": "markdown",
   "metadata": {},
   "source": [
    "**User Name** : narendramodi\n",
    "\n",
    "**Tweet**     : 'At 7:45 AM IST tomorrow, I will be delivering the keynote address at the Singapore Fintech Festival. I would be tal… https://t.co/S7oOFrMFBl'\n",
    "\n",
    "**Possibility of Fake News** : ~0.0\n",
    "\n",
    "**Possible Fake Accounts**   :  \n",
    "- RaviSin41703280\n",
    "- Samrat82037914\n"
   ]
  }
 ],
 "metadata": {
  "kernelspec": {
   "display_name": "Python 3",
   "language": "python",
   "name": "python3"
  },
  "language_info": {
   "codemirror_mode": {
    "name": "ipython",
    "version": 3
   },
   "file_extension": ".py",
   "mimetype": "text/x-python",
   "name": "python",
   "nbconvert_exporter": "python",
   "pygments_lexer": "ipython3",
   "version": "3.6.8"
  }
 },
 "nbformat": 4,
 "nbformat_minor": 2
}
