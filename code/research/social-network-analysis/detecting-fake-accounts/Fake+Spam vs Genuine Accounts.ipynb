{
 "cells": [
  {
   "cell_type": "markdown",
   "metadata": {},
   "source": [
    "# Detecting Fake Accounts\n",
    "\n",
    "**As discovered in analysis of data relating to account details it was obeserved that known spam bot accounts shared many similarities with fake accounts and using this data we will now train a FAKE+SPAM vs GENUINE account classifier and later use it for the purposes of Social Network Analysis**\n"
   ]
  },
  {
   "cell_type": "code",
   "execution_count": 1,
   "metadata": {},
   "outputs": [],
   "source": [
    "import pandas as pd"
   ]
  },
  {
   "cell_type": "code",
   "execution_count": 2,
   "metadata": {},
   "outputs": [],
   "source": [
    "useful_colums = [\"statuses_count\", \"followers_count\", \"friends_count\", \"favourites_count\", \"listed_count\", \"default_profile\", \"profile_banner_url\", \"profile_background_tile\", \"profile_background_color\" ,\"verified\"]"
   ]
  },
  {
   "cell_type": "markdown",
   "metadata": {},
   "source": [
    "## Load Data"
   ]
  },
  {
   "cell_type": "code",
   "execution_count": 3,
   "metadata": {},
   "outputs": [],
   "source": [
    "df_fake = pd.read_csv(\"data_mib/fake_followers.csv/fake_followers.csv/users.csv\")\n",
    "df_spam_1 = pd.read_csv(\"data_mib/social_spambots_1.csv/users.csv\")\n",
    "df_spam_2 = pd.read_csv(\"data_mib/social_spambots_2.csv/users.csv\")\n",
    "df_spam_3 = pd.read_csv(\"data_mib/social_spambots_3.csv/users.csv\")\n",
    "df_genuine = pd.read_csv(\"data_mib/genuine_accounts.csv/users.csv\")"
   ]
  },
  {
   "cell_type": "code",
   "execution_count": 5,
   "metadata": {},
   "outputs": [
    {
     "data": {
      "text/plain": [
       "id                              7.442362e+08\n",
       "statuses_count                  7.189824e+01\n",
       "followers_count                 1.774038e+01\n",
       "friends_count                   3.700597e+02\n",
       "favourites_count                4.299612e+00\n",
       "listed_count                    7.311250e-02\n",
       "default_profile                 1.000000e+00\n",
       "default_profile_image           1.000000e+00\n",
       "geo_enabled                     1.000000e+00\n",
       "profile_use_background_image    1.000000e+00\n",
       "profile_background_tile         1.000000e+00\n",
       "utc_offset                     -8.602388e+03\n",
       "is_translator                            NaN\n",
       "follow_request_sent                      NaN\n",
       "protected                                NaN\n",
       "verified                                 NaN\n",
       "notifications                            NaN\n",
       "contributors_enabled                     NaN\n",
       "following                                NaN\n",
       "dtype: float64"
      ]
     },
     "execution_count": 5,
     "metadata": {},
     "output_type": "execute_result"
    }
   ],
   "source": [
    "df_fake.mean()"
   ]
  },
  {
   "cell_type": "code",
   "execution_count": 6,
   "metadata": {},
   "outputs": [
    {
     "data": {
      "text/plain": [
       "id                              9.519675e+08\n",
       "statuses_count                  1.695822e+04\n",
       "followers_count                 1.393220e+03\n",
       "friends_count                   6.332424e+02\n",
       "favourites_count                4.669620e+03\n",
       "listed_count                    1.949655e+01\n",
       "default_profile                 1.000000e+00\n",
       "default_profile_image           1.000000e+00\n",
       "geo_enabled                     1.000000e+00\n",
       "profile_use_background_image    1.000000e+00\n",
       "profile_background_tile         1.000000e+00\n",
       "utc_offset                     -4.386545e+03\n",
       "is_translator                   1.000000e+00\n",
       "follow_request_sent                      NaN\n",
       "protected                       1.000000e+00\n",
       "verified                        1.000000e+00\n",
       "notifications                            NaN\n",
       "contributors_enabled                     NaN\n",
       "following                                NaN\n",
       "test_set_1                      2.878526e-01\n",
       "test_set_2                      1.410478e-01\n",
       "dtype: float64"
      ]
     },
     "execution_count": 6,
     "metadata": {},
     "output_type": "execute_result"
    }
   ],
   "source": [
    "df_genuine.mean()"
   ]
  },
  {
   "cell_type": "code",
   "execution_count": 14,
   "metadata": {},
   "outputs": [
    {
     "name": "stderr",
     "output_type": "stream",
     "text": [
      "c:\\users\\joavi\\anaconda3\\envs\\py36\\lib\\site-packages\\pandas\\core\\frame.py:6211: FutureWarning: Sorting because non-concatenation axis is not aligned. A future version\n",
      "of pandas will change to not sort by default.\n",
      "\n",
      "To accept the future behavior, pass 'sort=False'.\n",
      "\n",
      "To retain the current behavior and silence the warning, pass 'sort=True'.\n",
      "\n",
      "  sort=sort)\n"
     ]
    }
   ],
   "source": [
    "df_spam = df_spam_1.append(df_spam_2).append(df_spam_3)"
   ]
  },
  {
   "cell_type": "markdown",
   "metadata": {},
   "source": [
    "## Preprocess Data into trainable format"
   ]
  },
  {
   "cell_type": "code",
   "execution_count": 15,
   "metadata": {},
   "outputs": [],
   "source": [
    "def preprocess(df):\n",
    "    # extract relevant columns\n",
    "    df = df[useful_colums]\n",
    "    # FILL NA with 0\n",
    "    df.fillna(0, inplace=True)\n",
    "    # fix profile_banner_url `1 == present` `0 == absent`\n",
    "    df[\"profile_banner_url\"][df[\"profile_banner_url\"] != 0] = 1\n",
    "    # fix profile_background_color `1 == not default` `0 == default`\n",
    "    df[\"profile_background_color\"][df[\"profile_background_color\"] != \"C0DEED\"] = 1\n",
    "    df[\"profile_background_color\"][df[\"profile_background_color\"] == \"C0DEED\"] = 0\n",
    "    df = df.apply(pd.to_numeric)\n",
    "    return df"
   ]
  },
  {
   "cell_type": "code",
   "execution_count": 16,
   "metadata": {
    "scrolled": true
   },
   "outputs": [
    {
     "name": "stderr",
     "output_type": "stream",
     "text": [
      "c:\\users\\joavi\\anaconda3\\envs\\py36\\lib\\site-packages\\pandas\\core\\frame.py:3790: SettingWithCopyWarning: \n",
      "A value is trying to be set on a copy of a slice from a DataFrame\n",
      "\n",
      "See the caveats in the documentation: http://pandas.pydata.org/pandas-docs/stable/indexing.html#indexing-view-versus-copy\n",
      "  downcast=downcast, **kwargs)\n",
      "c:\\users\\joavi\\anaconda3\\envs\\py36\\lib\\site-packages\\ipykernel_launcher.py:7: SettingWithCopyWarning: \n",
      "A value is trying to be set on a copy of a slice from a DataFrame\n",
      "\n",
      "See the caveats in the documentation: http://pandas.pydata.org/pandas-docs/stable/indexing.html#indexing-view-versus-copy\n",
      "  import sys\n",
      "c:\\users\\joavi\\anaconda3\\envs\\py36\\lib\\site-packages\\pandas\\core\\generic.py:7626: SettingWithCopyWarning: \n",
      "A value is trying to be set on a copy of a slice from a DataFrame\n",
      "\n",
      "See the caveats in the documentation: http://pandas.pydata.org/pandas-docs/stable/indexing.html#indexing-view-versus-copy\n",
      "  self._update_inplace(new_data)\n",
      "c:\\users\\joavi\\anaconda3\\envs\\py36\\lib\\site-packages\\ipykernel_launcher.py:1: SettingWithCopyWarning: \n",
      "A value is trying to be set on a copy of a slice from a DataFrame\n",
      "\n",
      "See the caveats in the documentation: http://pandas.pydata.org/pandas-docs/stable/indexing.html#indexing-view-versus-copy\n",
      "  \"\"\"Entry point for launching an IPython kernel.\n",
      "c:\\users\\joavi\\anaconda3\\envs\\py36\\lib\\site-packages\\ipykernel_launcher.py:9: SettingWithCopyWarning: \n",
      "A value is trying to be set on a copy of a slice from a DataFrame\n",
      "\n",
      "See the caveats in the documentation: http://pandas.pydata.org/pandas-docs/stable/indexing.html#indexing-view-versus-copy\n",
      "  if __name__ == '__main__':\n",
      "c:\\users\\joavi\\anaconda3\\envs\\py36\\lib\\site-packages\\ipykernel_launcher.py:10: SettingWithCopyWarning: \n",
      "A value is trying to be set on a copy of a slice from a DataFrame\n",
      "\n",
      "See the caveats in the documentation: http://pandas.pydata.org/pandas-docs/stable/indexing.html#indexing-view-versus-copy\n",
      "  # Remove the CWD from sys.path while we load stuff.\n",
      "c:\\users\\joavi\\anaconda3\\envs\\py36\\lib\\site-packages\\ipykernel_launcher.py:2: SettingWithCopyWarning: \n",
      "A value is trying to be set on a copy of a slice from a DataFrame\n",
      "\n",
      "See the caveats in the documentation: http://pandas.pydata.org/pandas-docs/stable/indexing.html#indexing-view-versus-copy\n",
      "  \n",
      "c:\\users\\joavi\\anaconda3\\envs\\py36\\lib\\site-packages\\ipykernel_launcher.py:3: SettingWithCopyWarning: \n",
      "A value is trying to be set on a copy of a slice from a DataFrame\n",
      "\n",
      "See the caveats in the documentation: http://pandas.pydata.org/pandas-docs/stable/indexing.html#indexing-view-versus-copy\n",
      "  This is separate from the ipykernel package so we can avoid doing imports until\n"
     ]
    }
   ],
   "source": [
    "df_fake = preprocess(df_fake)\n",
    "df_spam = preprocess(df_spam)\n",
    "df_genuine = preprocess(df_genuine)"
   ]
  },
  {
   "cell_type": "markdown",
   "metadata": {},
   "source": [
    "## Preparing Data"
   ]
  },
  {
   "cell_type": "code",
   "execution_count": 26,
   "metadata": {},
   "outputs": [],
   "source": [
    "import numpy as np"
   ]
  },
  {
   "cell_type": "code",
   "execution_count": 17,
   "metadata": {},
   "outputs": [],
   "source": [
    "df_fake_spam = df_fake.append(df_spam)"
   ]
  },
  {
   "cell_type": "code",
   "execution_count": 18,
   "metadata": {
    "scrolled": true
   },
   "outputs": [
    {
     "data": {
      "text/plain": [
       "(8263, 3474)"
      ]
     },
     "execution_count": 18,
     "metadata": {},
     "output_type": "execute_result"
    }
   ],
   "source": [
    "# Prior Values\n",
    "len(df_fake_spam), len(df_genuine)"
   ]
  },
  {
   "cell_type": "code",
   "execution_count": 20,
   "metadata": {},
   "outputs": [],
   "source": [
    "# generate training labels\n",
    "Y_train = [0 for i in range(len(df_fake_spam))] + [1 for i in range(len(df_genuine))]"
   ]
  },
  {
   "cell_type": "code",
   "execution_count": 24,
   "metadata": {},
   "outputs": [
    {
     "data": {
      "text/plain": [
       "((8263, 10), (3474, 10))"
      ]
     },
     "execution_count": 24,
     "metadata": {},
     "output_type": "execute_result"
    }
   ],
   "source": [
    "fake_spam_values = df_fake_spam.values.copy()\n",
    "genuine_values = df_genuine.values.copy()\n",
    "fake_spam_values.shape, genuine_values.shape"
   ]
  },
  {
   "cell_type": "code",
   "execution_count": 27,
   "metadata": {},
   "outputs": [
    {
     "data": {
      "text/plain": [
       "(11737, 10)"
      ]
     },
     "execution_count": 27,
     "metadata": {},
     "output_type": "execute_result"
    }
   ],
   "source": [
    "X_train = np.concatenate((fake_spam_values, genuine_values), axis=0)\n",
    "X_train.shape"
   ]
  },
  {
   "cell_type": "code",
   "execution_count": 28,
   "metadata": {},
   "outputs": [],
   "source": [
    "from sklearn.preprocessing import MinMaxScaler\n",
    "from sklearn.model_selection import train_test_split"
   ]
  },
  {
   "cell_type": "code",
   "execution_count": 35,
   "metadata": {},
   "outputs": [],
   "source": [
    "# feature scaling\n",
    "mms = MinMaxScaler()\n",
    "X_train_scaled = mms.fit_transform(X_train)"
   ]
  },
  {
   "cell_type": "code",
   "execution_count": 41,
   "metadata": {},
   "outputs": [],
   "source": [
    "# train-test split\n",
    "X_tr, X_te, Y_tr, Y_te = train_test_split(X_train_scaled, Y_train, test_size=0.25, random_state=101) "
   ]
  },
  {
   "cell_type": "code",
   "execution_count": 38,
   "metadata": {},
   "outputs": [
    {
     "data": {
      "text/plain": [
       "((8802, 10), (2935, 10))"
      ]
     },
     "execution_count": 38,
     "metadata": {},
     "output_type": "execute_result"
    }
   ],
   "source": [
    "X_tr.shape, X_te.shape"
   ]
  },
  {
   "cell_type": "markdown",
   "metadata": {},
   "source": [
    "## Training Model"
   ]
  },
  {
   "cell_type": "code",
   "execution_count": 43,
   "metadata": {},
   "outputs": [],
   "source": [
    "from sklearn.svm import LinearSVC\n",
    "from sklearn.tree import DecisionTreeClassifier\n",
    "from sklearn.neighbors import KNeighborsClassifier\n",
    "from sklearn.ensemble import RandomForestClassifier, AdaBoostClassifier\n",
    "from xgboost import XGBClassifier"
   ]
  },
  {
   "cell_type": "code",
   "execution_count": 50,
   "metadata": {},
   "outputs": [],
   "source": [
    "models = {\n",
    "    \"svm\" : LinearSVC(),\n",
    "    \"dt\" : DecisionTreeClassifier(),\n",
    "    \"knn\" : KNeighborsClassifier(),\n",
    "    \"rf\" : RandomForestClassifier(),\n",
    "    \"ada\" : AdaBoostClassifier(),\n",
    "    \"xgb\" : XGBClassifier()\n",
    "}"
   ]
  },
  {
   "cell_type": "code",
   "execution_count": 51,
   "metadata": {
    "scrolled": true
   },
   "outputs": [
    {
     "name": "stdout",
     "output_type": "stream",
     "text": [
      "svm gets 0.9560477001703578 accuracy on testing data\n",
      "dt gets 0.9781942078364566 accuracy on testing data\n",
      "knn gets 0.9713798977853493 accuracy on testing data\n"
     ]
    },
    {
     "name": "stderr",
     "output_type": "stream",
     "text": [
      "c:\\users\\joavi\\anaconda3\\envs\\py36\\lib\\site-packages\\sklearn\\ensemble\\forest.py:246: FutureWarning: The default value of n_estimators will change from 10 in version 0.20 to 100 in 0.22.\n",
      "  \"10 in version 0.20 to 100 in 0.22.\", FutureWarning)\n"
     ]
    },
    {
     "name": "stdout",
     "output_type": "stream",
     "text": [
      "rf gets 0.9812606473594548 accuracy on testing data\n",
      "ada gets 0.9805792163543441 accuracy on testing data\n",
      "xgb gets 0.9816013628620103 accuracy on testing data\n"
     ]
    }
   ],
   "source": [
    "for model in models:\n",
    "    clf = models[model]\n",
    "    clf.fit(X_tr, Y_tr)\n",
    "    print(\"{} gets {} accuracy on testing data\".format(model ,clf.score(X_te, Y_te)))"
   ]
  },
  {
   "cell_type": "markdown",
   "metadata": {},
   "source": [
    "## Save model"
   ]
  },
  {
   "cell_type": "code",
   "execution_count": 53,
   "metadata": {},
   "outputs": [],
   "source": [
    "def save_model():\n",
    "    import pickle\n",
    "    pickle.dump(file=open(\"F_vs_G_model.data\", \"wb\"), obj={\"classifier\": models[\"xgb\"], \"scaler\": mms})"
   ]
  },
  {
   "cell_type": "code",
   "execution_count": 54,
   "metadata": {},
   "outputs": [],
   "source": [
    "save_model()"
   ]
  }
 ],
 "metadata": {
  "kernelspec": {
   "display_name": "Python 3",
   "language": "python",
   "name": "python3"
  },
  "language_info": {
   "codemirror_mode": {
    "name": "ipython",
    "version": 3
   },
   "file_extension": ".py",
   "mimetype": "text/x-python",
   "name": "python",
   "nbconvert_exporter": "python",
   "pygments_lexer": "ipython3",
   "version": "3.7.1"
  }
 },
 "nbformat": 4,
 "nbformat_minor": 2
}
