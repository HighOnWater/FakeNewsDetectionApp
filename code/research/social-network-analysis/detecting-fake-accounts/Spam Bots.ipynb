{
 "cells": [
  {
   "cell_type": "markdown",
   "metadata": {},
   "source": [
    "# Spam Bots\n",
    "**Analyze the features of a SPAM Bot account**"
   ]
  },
  {
   "cell_type": "code",
   "execution_count": 1,
   "metadata": {},
   "outputs": [],
   "source": [
    "import pandas as pd\n",
    "import numpy as np"
   ]
  },
  {
   "cell_type": "code",
   "execution_count": 2,
   "metadata": {},
   "outputs": [],
   "source": [
    "useful_columns = [\"statuses_count\", \"followers_count\", \"friends_count\", \"favourites_count\", \"listed_count\", \"default_profile\", \"profile_banner_url\", \"profile_background_tile\", \"profile_background_color\" ,\"verified\"]"
   ]
  },
  {
   "cell_type": "code",
   "execution_count": 3,
   "metadata": {},
   "outputs": [],
   "source": [
    "df_spambots_1 = pd.read_csv(\"data_mib/social_spambots_1.csv/users.csv\")\n",
    "df_spambots_2 = pd.read_csv(\"data_mib/social_spambots_2.csv/users.csv\")\n",
    "df_spambots_3 = pd.read_csv(\"data_mib/social_spambots_3.csv/users.csv\")"
   ]
  },
  {
   "cell_type": "code",
   "execution_count": 11,
   "metadata": {},
   "outputs": [
    {
     "data": {
      "text/plain": [
       "(991, 3457, 464)"
      ]
     },
     "execution_count": 11,
     "metadata": {},
     "output_type": "execute_result"
    }
   ],
   "source": [
    "tot_len = len(df_spambots_1), len(df_spambots_2), len(df_spambots_3)\n",
    "tot_len"
   ]
  },
  {
   "cell_type": "code",
   "execution_count": 6,
   "metadata": {},
   "outputs": [
    {
     "name": "stderr",
     "output_type": "stream",
     "text": [
      "c:\\users\\joavi\\anaconda3\\envs\\py36\\lib\\site-packages\\pandas\\core\\frame.py:6211: FutureWarning: Sorting because non-concatenation axis is not aligned. A future version\n",
      "of pandas will change to not sort by default.\n",
      "\n",
      "To accept the future behavior, pass 'sort=False'.\n",
      "\n",
      "To retain the current behavior and silence the warning, pass 'sort=True'.\n",
      "\n",
      "  sort=sort)\n"
     ]
    }
   ],
   "source": [
    "df_spambots = df_spambots_1.append(df_spambots_2).append(df_spambots_3)"
   ]
  },
  {
   "cell_type": "markdown",
   "metadata": {},
   "source": [
    "* extract desired columns"
   ]
  },
  {
   "cell_type": "code",
   "execution_count": 12,
   "metadata": {},
   "outputs": [
    {
     "data": {
      "text/plain": [
       "True"
      ]
     },
     "execution_count": 12,
     "metadata": {},
     "output_type": "execute_result"
    }
   ],
   "source": [
    "len(df_spambots) == sum(tot_len)"
   ]
  },
  {
   "cell_type": "code",
   "execution_count": 13,
   "metadata": {},
   "outputs": [],
   "source": [
    "df_spambots = df_spambots[useful_columns]"
   ]
  },
  {
   "cell_type": "code",
   "execution_count": 14,
   "metadata": {},
   "outputs": [
    {
     "data": {
      "text/plain": [
       "49120"
      ]
     },
     "execution_count": 14,
     "metadata": {},
     "output_type": "execute_result"
    }
   ],
   "source": [
    "df_spambots.size"
   ]
  },
  {
   "cell_type": "markdown",
   "metadata": {},
   "source": [
    "## Check if any of our desired columns have null values."
   ]
  },
  {
   "cell_type": "code",
   "execution_count": 15,
   "metadata": {
    "scrolled": true
   },
   "outputs": [
    {
     "name": "stdout",
     "output_type": "stream",
     "text": [
      "COLUMN : statuses_count has 4912 NULL VALUES AND 4912 NaN Values\n",
      "COLUMN : followers_count has 4912 NULL VALUES AND 4912 NaN Values\n",
      "COLUMN : friends_count has 4912 NULL VALUES AND 4912 NaN Values\n",
      "COLUMN : favourites_count has 4912 NULL VALUES AND 4912 NaN Values\n",
      "COLUMN : listed_count has 4912 NULL VALUES AND 4912 NaN Values\n",
      "COLUMN : default_profile has 4912 NULL VALUES AND 4912 NaN Values\n",
      "COLUMN : profile_banner_url has 4912 NULL VALUES AND 4912 NaN Values\n",
      "COLUMN : profile_background_tile has 4912 NULL VALUES AND 4912 NaN Values\n",
      "COLUMN : profile_background_color has 4912 NULL VALUES AND 4912 NaN Values\n",
      "COLUMN : verified has 4912 NULL VALUES AND 4912 NaN Values\n"
     ]
    }
   ],
   "source": [
    "for col in useful_columns:\n",
    "    null_values = df_spambots[col].isnull()\n",
    "    na_values = df_spambots[col].isna()\n",
    "    print(\"COLUMN : {} has {} NULL VALUES AND {} NaN Values\".format(col, len(null_values), len(na_values)))"
   ]
  },
  {
   "cell_type": "code",
   "execution_count": 16,
   "metadata": {},
   "outputs": [
    {
     "data": {
      "text/plain": [
       "10.0"
      ]
     },
     "execution_count": 16,
     "metadata": {},
     "output_type": "execute_result"
    }
   ],
   "source": [
    "df_spambots[col].isnull().size / df_spambots.size * 100"
   ]
  },
  {
   "cell_type": "markdown",
   "metadata": {},
   "source": [
    "* Convert Null values to 0"
   ]
  },
  {
   "cell_type": "code",
   "execution_count": 17,
   "metadata": {},
   "outputs": [],
   "source": [
    "df_spambots.fillna(0, inplace=True)"
   ]
  },
  {
   "cell_type": "code",
   "execution_count": 19,
   "metadata": {},
   "outputs": [
    {
     "data": {
      "text/plain": [
       "49120"
      ]
     },
     "execution_count": 19,
     "metadata": {},
     "output_type": "execute_result"
    }
   ],
   "source": [
    "df_spambots.size"
   ]
  },
  {
   "cell_type": "code",
   "execution_count": 20,
   "metadata": {},
   "outputs": [
    {
     "data": {
      "text/html": [
       "<div>\n",
       "<style scoped>\n",
       "    .dataframe tbody tr th:only-of-type {\n",
       "        vertical-align: middle;\n",
       "    }\n",
       "\n",
       "    .dataframe tbody tr th {\n",
       "        vertical-align: top;\n",
       "    }\n",
       "\n",
       "    .dataframe thead th {\n",
       "        text-align: right;\n",
       "    }\n",
       "</style>\n",
       "<table border=\"1\" class=\"dataframe\">\n",
       "  <thead>\n",
       "    <tr style=\"text-align: right;\">\n",
       "      <th></th>\n",
       "      <th>statuses_count</th>\n",
       "      <th>followers_count</th>\n",
       "      <th>friends_count</th>\n",
       "      <th>favourites_count</th>\n",
       "      <th>listed_count</th>\n",
       "      <th>default_profile</th>\n",
       "      <th>profile_banner_url</th>\n",
       "      <th>profile_background_tile</th>\n",
       "      <th>profile_background_color</th>\n",
       "      <th>verified</th>\n",
       "    </tr>\n",
       "  </thead>\n",
       "  <tbody>\n",
       "    <tr>\n",
       "      <th>0</th>\n",
       "      <td>1299</td>\n",
       "      <td>22</td>\n",
       "      <td>40</td>\n",
       "      <td>1</td>\n",
       "      <td>0</td>\n",
       "      <td>1.0</td>\n",
       "      <td>0</td>\n",
       "      <td>0.0</td>\n",
       "      <td>C0DEED</td>\n",
       "      <td>0.0</td>\n",
       "    </tr>\n",
       "    <tr>\n",
       "      <th>1</th>\n",
       "      <td>18665</td>\n",
       "      <td>12561</td>\n",
       "      <td>3442</td>\n",
       "      <td>16358</td>\n",
       "      <td>110</td>\n",
       "      <td>0.0</td>\n",
       "      <td>https://pbs.twimg.com/profile_banners/33212890...</td>\n",
       "      <td>1.0</td>\n",
       "      <td>EBEBEB</td>\n",
       "      <td>0.0</td>\n",
       "    </tr>\n",
       "    <tr>\n",
       "      <th>2</th>\n",
       "      <td>22987</td>\n",
       "      <td>600</td>\n",
       "      <td>755</td>\n",
       "      <td>14</td>\n",
       "      <td>6</td>\n",
       "      <td>0.0</td>\n",
       "      <td>https://pbs.twimg.com/profile_banners/39773427...</td>\n",
       "      <td>1.0</td>\n",
       "      <td>131516</td>\n",
       "      <td>0.0</td>\n",
       "    </tr>\n",
       "    <tr>\n",
       "      <th>3</th>\n",
       "      <td>7975</td>\n",
       "      <td>398</td>\n",
       "      <td>350</td>\n",
       "      <td>11</td>\n",
       "      <td>2</td>\n",
       "      <td>0.0</td>\n",
       "      <td>https://pbs.twimg.com/profile_banners/57007623...</td>\n",
       "      <td>1.0</td>\n",
       "      <td>E60584</td>\n",
       "      <td>0.0</td>\n",
       "    </tr>\n",
       "    <tr>\n",
       "      <th>4</th>\n",
       "      <td>20218</td>\n",
       "      <td>413</td>\n",
       "      <td>405</td>\n",
       "      <td>162</td>\n",
       "      <td>8</td>\n",
       "      <td>0.0</td>\n",
       "      <td>https://pbs.twimg.com/profile_banners/63258466...</td>\n",
       "      <td>0.0</td>\n",
       "      <td>EBEBEB</td>\n",
       "      <td>0.0</td>\n",
       "    </tr>\n",
       "  </tbody>\n",
       "</table>\n",
       "</div>"
      ],
      "text/plain": [
       "   statuses_count  followers_count  friends_count  favourites_count  \\\n",
       "0            1299               22             40                 1   \n",
       "1           18665            12561           3442             16358   \n",
       "2           22987              600            755                14   \n",
       "3            7975              398            350                11   \n",
       "4           20218              413            405               162   \n",
       "\n",
       "   listed_count  default_profile  \\\n",
       "0             0              1.0   \n",
       "1           110              0.0   \n",
       "2             6              0.0   \n",
       "3             2              0.0   \n",
       "4             8              0.0   \n",
       "\n",
       "                                  profile_banner_url  profile_background_tile  \\\n",
       "0                                                  0                      0.0   \n",
       "1  https://pbs.twimg.com/profile_banners/33212890...                      1.0   \n",
       "2  https://pbs.twimg.com/profile_banners/39773427...                      1.0   \n",
       "3  https://pbs.twimg.com/profile_banners/57007623...                      1.0   \n",
       "4  https://pbs.twimg.com/profile_banners/63258466...                      0.0   \n",
       "\n",
       "  profile_background_color  verified  \n",
       "0                   C0DEED       0.0  \n",
       "1                   EBEBEB       0.0  \n",
       "2                   131516       0.0  \n",
       "3                   E60584       0.0  \n",
       "4                   EBEBEB       0.0  "
      ]
     },
     "execution_count": 20,
     "metadata": {},
     "output_type": "execute_result"
    }
   ],
   "source": [
    "df_spambots.head()"
   ]
  },
  {
   "cell_type": "markdown",
   "metadata": {},
   "source": [
    "## Test with pretrained classifier\n",
    "> Which class do spambots fit into"
   ]
  },
  {
   "cell_type": "code",
   "execution_count": 21,
   "metadata": {},
   "outputs": [],
   "source": [
    "def load_model():\n",
    "    import pickle\n",
    "    loaded_model = pickle.load(open(\"fake_account_model.dat\", \"rb\"))\n",
    "    model = loaded_model[\"classifier\"]\n",
    "    scaler = loaded_model[\"scaler\"]\n",
    "    return model, scaler"
   ]
  },
  {
   "cell_type": "code",
   "execution_count": 22,
   "metadata": {},
   "outputs": [],
   "source": [
    "model, scaler = load_model()"
   ]
  },
  {
   "cell_type": "code",
   "execution_count": 23,
   "metadata": {},
   "outputs": [],
   "source": [
    "def fix_df(df):\n",
    "    # fix profile_banner_url `1 == present` `0 == absent`\n",
    "    df[\"profile_banner_url\"][df[\"profile_banner_url\"] != 0] = 1\n",
    "    # fix profile_background_color `1 == not default` `0 == default`\n",
    "    df[\"profile_background_color\"][df[\"profile_background_color\"] != \"C0DEED\"] = 1\n",
    "    df[\"profile_background_color\"][df[\"profile_background_color\"] == \"C0DEED\"] = 0\n",
    "    return df"
   ]
  },
  {
   "cell_type": "code",
   "execution_count": 24,
   "metadata": {},
   "outputs": [
    {
     "name": "stderr",
     "output_type": "stream",
     "text": [
      "c:\\users\\joavi\\anaconda3\\envs\\py36\\lib\\site-packages\\ipykernel_launcher.py:3: SettingWithCopyWarning: \n",
      "A value is trying to be set on a copy of a slice from a DataFrame\n",
      "\n",
      "See the caveats in the documentation: http://pandas.pydata.org/pandas-docs/stable/indexing.html#indexing-view-versus-copy\n",
      "  This is separate from the ipykernel package so we can avoid doing imports until\n",
      "c:\\users\\joavi\\anaconda3\\envs\\py36\\lib\\site-packages\\ipykernel_launcher.py:5: SettingWithCopyWarning: \n",
      "A value is trying to be set on a copy of a slice from a DataFrame\n",
      "\n",
      "See the caveats in the documentation: http://pandas.pydata.org/pandas-docs/stable/indexing.html#indexing-view-versus-copy\n",
      "  \"\"\"\n",
      "c:\\users\\joavi\\anaconda3\\envs\\py36\\lib\\site-packages\\ipykernel_launcher.py:6: SettingWithCopyWarning: \n",
      "A value is trying to be set on a copy of a slice from a DataFrame\n",
      "\n",
      "See the caveats in the documentation: http://pandas.pydata.org/pandas-docs/stable/indexing.html#indexing-view-versus-copy\n",
      "  \n"
     ]
    }
   ],
   "source": [
    "df_spambots = fix_df(df_spambots)"
   ]
  },
  {
   "cell_type": "code",
   "execution_count": 25,
   "metadata": {},
   "outputs": [],
   "source": [
    "df_spambots = df_spambots.apply(pd.to_numeric)"
   ]
  },
  {
   "cell_type": "code",
   "execution_count": 26,
   "metadata": {},
   "outputs": [
    {
     "data": {
      "text/plain": [
       "array([[1.2990e+03, 2.2000e+01, 4.0000e+01, ..., 0.0000e+00, 0.0000e+00,\n",
       "        0.0000e+00],\n",
       "       [1.8665e+04, 1.2561e+04, 3.4420e+03, ..., 1.0000e+00, 1.0000e+00,\n",
       "        0.0000e+00],\n",
       "       [2.2987e+04, 6.0000e+02, 7.5500e+02, ..., 1.0000e+00, 1.0000e+00,\n",
       "        0.0000e+00],\n",
       "       ...,\n",
       "       [1.3700e+02, 2.9000e+01, 1.2400e+02, ..., 0.0000e+00, 1.0000e+00,\n",
       "        0.0000e+00],\n",
       "       [1.7000e+02, 1.1500e+02, 3.5300e+02, ..., 0.0000e+00, 1.0000e+00,\n",
       "        0.0000e+00],\n",
       "       [6.5000e+01, 1.3500e+02, 9.9800e+02, ..., 0.0000e+00, 1.0000e+00,\n",
       "        0.0000e+00]])"
      ]
     },
     "execution_count": 26,
     "metadata": {},
     "output_type": "execute_result"
    }
   ],
   "source": [
    "X_test = df_spambots.values\n",
    "X_test"
   ]
  },
  {
   "cell_type": "code",
   "execution_count": 27,
   "metadata": {},
   "outputs": [
    {
     "data": {
      "text/plain": [
       "(4912, 10)"
      ]
     },
     "execution_count": 27,
     "metadata": {},
     "output_type": "execute_result"
    }
   ],
   "source": [
    "X_test.shape"
   ]
  },
  {
   "cell_type": "code",
   "execution_count": 28,
   "metadata": {},
   "outputs": [],
   "source": [
    "X_test = scaler.transform(X_test)"
   ]
  },
  {
   "cell_type": "code",
   "execution_count": 29,
   "metadata": {},
   "outputs": [],
   "source": [
    "predictions = model.predict(X_test)"
   ]
  },
  {
   "cell_type": "code",
   "execution_count": 32,
   "metadata": {},
   "outputs": [
    {
     "data": {
      "text/plain": [
       "array([4564,  348], dtype=int64)"
      ]
     },
     "execution_count": 32,
     "metadata": {},
     "output_type": "execute_result"
    }
   ],
   "source": [
    "pred_counts = np.bincount(predictions)\n",
    "pred_counts"
   ]
  },
  {
   "cell_type": "code",
   "execution_count": 34,
   "metadata": {},
   "outputs": [
    {
     "data": {
      "text/plain": [
       "0.9291530944625407"
      ]
     },
     "execution_count": 34,
     "metadata": {},
     "output_type": "execute_result"
    }
   ],
   "source": [
    "pred_counts[0] / sum(pred_counts)"
   ]
  },
  {
   "cell_type": "markdown",
   "metadata": {},
   "source": [
    "## CONCLUSION\n",
    "\n",
    "**SPAM ACCOUNTS share features similar to fake accounts**\n",
    "\n",
    "Using a predictor trained on fake and genuine accounts, 92.91% of spam bot accounts were classified as fake accounts."
   ]
  }
 ],
 "metadata": {
  "kernelspec": {
   "display_name": "Python 3",
   "language": "python",
   "name": "python3"
  },
  "language_info": {
   "codemirror_mode": {
    "name": "ipython",
    "version": 3
   },
   "file_extension": ".py",
   "mimetype": "text/x-python",
   "name": "python",
   "nbconvert_exporter": "python",
   "pygments_lexer": "ipython3",
   "version": "3.6.7"
  }
 },
 "nbformat": 4,
 "nbformat_minor": 2
}
