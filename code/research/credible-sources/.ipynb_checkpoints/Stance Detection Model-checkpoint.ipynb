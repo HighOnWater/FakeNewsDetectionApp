{
 "cells": [
  {
   "cell_type": "code",
   "execution_count": 9,
   "metadata": {},
   "outputs": [],
   "source": [
    "from keras.models import load_model\n",
    "import json\n",
    "import pickle"
   ]
  },
  {
   "cell_type": "code",
   "execution_count": 10,
   "metadata": {},
   "outputs": [],
   "source": [
    "model = load_model('glove100d.hdf5')"
   ]
  },
  {
   "cell_type": "code",
   "execution_count": 18,
   "metadata": {},
   "outputs": [
    {
     "data": {
      "text/plain": [
       "'Scientists have just discovered a bizarre pattern in global weather. Extreme heat waves like the one that hit the Eastern US in 2012, leaving at least 82 dead, don\\'t just come out of nowhere. A new study, published today in Nature Geoscience, reveals that heat waves arise in a predictable pattern roughly 40 to 50 days after an event called the Pacific Extreme Pattern.   During a Pacific Extreme Pattern, a large area of the Pacific north of Hawaii experiences unusual temperatures both at the water\\'s surface and far above it in the atmosphere. Specifically, the southern part of the region gets far hotter than is typical, and the northeastern part of the region gets much colder. These unusual temperature patterns create a wave of weather effects that sweep over most of the US, then stop over the humid inland eastern region, creating a high pressure zone that brings clear skies and oppressive heat. The effect is intensified if there has been little rain in the east as well.    The researchers examined weather data from sensors in both the Pacific and throughout the Eastern US between 1982 to 2015, finding that the Pacific Extreme Pattern was a strong predictor of heat waves. When the pattern emerges, there is a 1 in 4 chance that the Eastern US will experience extreme heat in 50 days. There\\'s a 1 in 2 chance that they\\'ll experience it in 40 days. Given that the Eastern US has a high population as well as many agricultural regions that are breadbaskets for the nation, this kind of long-range prediction could be lifesaving.    What\\'s remarkable about this study is that it might pave the way for other kinds of extreme weather prediction as well.    Tornado forecasting researcher Victor Gensini, who was not involved in the study, told the Associated Press:    The physical mechanisms underpinning the results of their study make sense. It is exciting that there is some skill demonstrated as far out as 50 days as this also gives us hope for linkages to other extreme weather events. The authors of the study emphasize that the heat waves are a combination of heat in the Pacific with low rain in the east. They write, \"The results presented here link two previously identified precursors to hot days - precipitation deficits and an anomalous atmospheric wave train - with the occurrence of [Pacific Extreme Pattern].\" That\\'s one train you don\\'t want to be riding when summer comes. Now, at least, you may have seven weeks to prepare for it.'"
      ]
     },
     "execution_count": 18,
     "metadata": {},
     "output_type": "execute_result"
    }
   ],
   "source": [
    "with open(\"./data/input.json\", \"r\") as fp:\n",
    "    claim_text = json.load(fp)[\"text\"]"
   ]
  },
  {
   "cell_type": "code",
   "execution_count": 19,
   "metadata": {},
   "outputs": [],
   "source": [
    "preload_path = \"data_dump_glove.data\"\n",
    "data = pickle.load(open(preload_path, \"rb\"))\n",
    "data_train = data[\"X_train\"]\n",
    "labels_train = data[\"Y_train\"]\n",
    "data_test = data[\"X_test\"]"
   ]
  },
  {
   "cell_type": "code",
   "execution_count": 20,
   "metadata": {},
   "outputs": [],
   "source": [
    "import numpy as np\n",
    "from sklearn.model_selection import train_test_split \n",
    "from keras.preprocessing.text import Tokenizer\n",
    "from keras.preprocessing import sequence"
   ]
  },
  {
   "cell_type": "code",
   "execution_count": 21,
   "metadata": {},
   "outputs": [],
   "source": [
    "X_train, X_test, y_train, y_test = train_test_split(data_train, labels_train, test_size=0.2, random_state=101)\n",
    "X_train_headlines = [i[0] for i in X_train]\n",
    "X_train_articles = [i[1] for i in X_train]\n",
    "X_test_headlines = [i[0] for i in X_test]\n",
    "X_test_articles = [i[1] for i in X_test]\n",
    "\n",
    "max_features = 20000\n",
    "tokenizer = Tokenizer(num_words=max_features)\n",
    "# fit headline\n",
    "tokenizer.fit_on_texts(X_train_headlines + X_train_articles)"
   ]
  },
  {
   "cell_type": "code",
   "execution_count": 22,
   "metadata": {},
   "outputs": [],
   "source": [
    "# padding\n",
    "max_words_headline = 70\n",
    "max_words_article = 1000\n",
    "\n",
    "# preprocess claim text\n",
    "claim_text_seq = tokenizer.texts_to_sequences([claim_text])\n",
    "claim_text_seq = sequence.pad_sequences(claim_text_seq, maxlen=max_words_headline)"
   ]
  },
  {
   "cell_type": "code",
   "execution_count": 24,
   "metadata": {},
   "outputs": [
    {
     "name": "stdout",
     "output_type": "stream",
     "text": [
      "[[0.9501111]]\n",
      "[[0.4875015]]\n",
      "[[0.9378385]]\n",
      "[[0.94602126]]\n",
      "[[0.94828373]]\n",
      "[[0.08193297]]\n",
      "[[0.63428444]]\n",
      "[[0.87393004]]\n",
      "[[0.42561898]]\n",
      "[[0.9853475]]\n"
     ]
    }
   ],
   "source": [
    "with open(\"./results/er_opt.json\", \"r\") as fp:\n",
    "    df = json.load(fp)\n",
    "    for i in range(len(df[\"articles\"])):\n",
    "        df[\"articles\"][i] = str(json.loads(df[\"articles\"][i]))\n",
    "        credible_text_seq = tokenizer.texts_to_sequences([df[\"articles\"][i]])\n",
    "        credible_text_seq = sequence.pad_sequences(credible_text_seq, maxlen=max_words_article)\n",
    "        print(model.predict([claim_text_seq, credible_text_seq]))"
   ]
  },
  {
   "cell_type": "code",
   "execution_count": null,
   "metadata": {},
   "outputs": [],
   "source": []
  }
 ],
 "metadata": {
  "kernelspec": {
   "display_name": "FakeNews",
   "language": "python",
   "name": "fakenews"
  },
  "language_info": {
   "codemirror_mode": {
    "name": "ipython",
    "version": 3
   },
   "file_extension": ".py",
   "mimetype": "text/x-python",
   "name": "python",
   "nbconvert_exporter": "python",
   "pygments_lexer": "ipython3",
   "version": "3.7.1"
  }
 },
 "nbformat": 4,
 "nbformat_minor": 2
}
