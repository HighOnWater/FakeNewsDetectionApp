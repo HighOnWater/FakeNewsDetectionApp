{
 "cells": [
  {
   "cell_type": "code",
   "execution_count": 19,
   "metadata": {},
   "outputs": [
    {
     "name": "stderr",
     "output_type": "stream",
     "text": [
      "[nltk_data] Downloading package stopwords to\n",
      "[nltk_data]     /Users/hardik/nltk_data...\n",
      "[nltk_data]   Package stopwords is already up-to-date!\n",
      "[nltk_data] Downloading package punkt to /Users/hardik/nltk_data...\n",
      "[nltk_data]   Package punkt is already up-to-date!\n"
     ]
    }
   ],
   "source": [
    "from pytextrank import *\n",
    "from eventregistry import *\n",
    "from datetime import datetime\n",
    "from nltk import download\n",
    "from nltk.corpus import stopwords \n",
    "from nltk.tokenize import word_tokenize\n",
    "download('stopwords')\n",
    "download('punkt')\n",
    "import json"
   ]
  },
  {
   "cell_type": "code",
   "execution_count": 20,
   "metadata": {},
   "outputs": [],
   "source": [
    "source_uri = [\n",
    "    'bbc.com',                          # news\n",
    "    'blogs.wsj.com', \n",
    "    'npr.org',\n",
    "    'pbs.org',\n",
    "    'abcnews.go.com',\n",
    "    'cbsnews.com',\n",
    "    'nbcnews.com',\n",
    "    'apnews.com',\n",
    "    'edition.cnn.com',\n",
    "    'nytimes.com',\n",
    "    'nypost.com',\n",
    "    'washingtonpost.com',\n",
    "    'msnbc.com',\n",
    "    'theguardian.com',\n",
    "    'bloomberg.com',\n",
    "    'newyorker.com',\n",
    "    'politico.com',\n",
    "    'foxnews.com',\n",
    "    'huffingtonpost.com',\n",
    "    'economist.com',\n",
    "    'buzzfeednews.com',\n",
    "    'vox.com',\n",
    "    'reuters.com',\n",
    "    'in.reuters.com',\n",
    "    'forbes.com',\n",
    "    'ndtv.com',\n",
    "    'timesofindia.indiatimes.com',\n",
    "    'economictimes.indiatimes.com',\n",
    "    'ibtimes.co.in',\n",
    "    'huffingtonpost.in',\n",
    "    'indiatoday.in'\n",
    "    'foxsports.com',                    # sports\n",
    "    'espn.com',\n",
    "    'nfl.com',\n",
    "    'cbssports.com',\n",
    "    'fifa.com',\n",
    "    'techcrunch.com',                   # technology\n",
    "    'wired.com',\n",
    "    'lifehacker.com',\n",
    "    'macworld.com',\n",
    "    'pcworld.com',\n",
    "    'engadget.com',\n",
    "    'readwrite.com',\n",
    "    'mashable.com',\n",
    "    'gizmodo.com',\n",
    "    'venturebeat.com',\n",
    "    'recode.net',\n",
    "    'cnet.com',\n",
    "    'howtogeek.com',\n",
    "    'entrepreneur.com',                 # business\n",
    "    'hbr.org',\n",
    "    'freakonomics.com',\n",
    "    'ritholtz.com',\n",
    "    'fortune.com',\n",
    "    'business-standard.com',\n",
    "    'businessinsider.com',\n",
    "    'foxbusiness.com',\n",
    "    'businesstimes.com.sg',\n",
    "    'factly.in',                        # fact-checking\n",
    "    'factcheck.org',\n",
    "    'snopes.com',\n",
    "    'checkyourfact.com',\n",
    "    'politifact.com',\n",
    "    'thequint.com'\n",
    "    ]"
   ]
  },
  {
   "cell_type": "code",
   "execution_count": 13,
   "metadata": {},
   "outputs": [],
   "source": [
    "def find_phrases():\n",
    "    # file paths\n",
    "    ip = \"./data/input.json\"\n",
    "    op1 = \"./data/op1.json\"\n",
    "    op2 = \"./data/op2.json\"\n",
    "    op3 = \"./data/op3.json\"\n",
    "\n",
    "    # Perform statistical parsing/tagging on a document in JSON format\n",
    "    with open(op1, 'w') as f:\n",
    "        for graf in parse_doc(json_iter(ip)):\n",
    "            f.write(\"%s\\n\" % pretty_print(graf._asdict()))\n",
    "\n",
    "    # Collect and normalize the key phrases from a parsed document      \n",
    "    graph, ranks = text_rank(op1)\n",
    "    render_ranks(graph, ranks)\n",
    "\n",
    "    with open(op2, 'w') as f:\n",
    "        for rl in normalize_key_phrases(op1, ranks):\n",
    "            f.write(\"%s\\n\" % pretty_print(rl._asdict()))\n",
    "\n",
    "    # Summarize a document based on most significant sentences and key phrases\n",
    "    phrases = \", \".join(set([p for p in limit_keyphrases(op2, phrase_limit=12)]))\n",
    "    phrases = [phrase.strip() for phrase in phrases.split(',')]\n",
    "    phrases.sort(key=lambda x: len(x.split()), reverse=True)\n",
    "\n",
    "    # remove stop words from each phrase\n",
    "    stop_words = set(stopwords.words('english'))\n",
    "    for index, phrase in enumerate(phrases):\n",
    "        word_tokens = word_tokenize(phrase) \n",
    "        phrase = \" \".join([w for w in word_tokens if not w in stop_words])\n",
    "        phrases[index] = phrase\n",
    "\n",
    "    # select longest phrases while maximizing keyword limit for API\n",
    "    phrases_list = [phrase.split() for phrase in phrases]\n",
    "    phrases_list = [phrase for phrase in phrases_list if len(phrase) > 1]\n",
    "    phrases_final = []\n",
    "    counter = 0\n",
    "    for phrase in phrases_list:\n",
    "        if (counter+len(phrase)) <= 15:\n",
    "            phrases_final.append(\" \".join(phrase))\n",
    "            counter += len(phrase)\n",
    "        else:\n",
    "            continue\n",
    "\n",
    "    return phrases_final"
   ]
  },
  {
   "cell_type": "code",
   "execution_count": 21,
   "metadata": {},
   "outputs": [
    {
     "name": "stdout",
     "output_type": "stream",
     "text": [
      "['pacific extreme pattern', 'anomalous atmospheric wave train', 'extreme heat waves', 'eastern us', 'bizarre pattern']\n"
     ]
    }
   ],
   "source": [
    "phrases = find_phrases()\n",
    "print(phrases)"
   ]
  },
  {
   "cell_type": "code",
   "execution_count": 27,
   "metadata": {},
   "outputs": [
    {
     "name": "stdout",
     "output_type": "stream",
     "text": [
      "using user provided API key for making requests\n",
      "Event Registry host: http://eventregistry.org\n",
      "Text analytics host: http://analytics.eventregistry.org\n"
     ]
    }
   ],
   "source": [
    "API_KEY = \"c40d087b-97be-4617-9008-19d209368072\"\n",
    "er = EventRegistry(apiKey = API_KEY)\n",
    "\n",
    "it = QueryArticlesIter(\n",
    "        keywords = QueryItems.OR(phrases),\n",
    "        dataType = [\"news\"],\n",
    "        keywordsLoc = \"body\",\n",
    "        sourceUri = QueryItems.OR(source_uri),\n",
    "        lang=\"eng\",\n",
    "        dateStart = datetime(2019, 1, 1)\n",
    "    )\n",
    "\n",
    "res = it.execQuery(er, \n",
    "                    sortBy = \"rel\", # sourceAlexaGlobalRank, socialScore, sourceImportance\n",
    "                    maxItems = 10,\n",
    "                    returnInfo = ReturnInfo(\n",
    "                        articleInfo = ArticleInfoFlags(\n",
    "                            links = True,\n",
    "                            image = True,\n",
    "                            socialScore = True,\n",
    "                            sentiment = True\n",
    "                        ),\n",
    "                        sourceInfo = SourceInfoFlags(\n",
    "                            ranking = True\n",
    "                        )\n",
    "                    )\n",
    "                )"
   ]
  },
  {
   "cell_type": "code",
   "execution_count": 28,
   "metadata": {},
   "outputs": [],
   "source": [
    "data = {}\n",
    "data[\"articles\"] = []\n",
    "for art in res:\n",
    "    data[\"articles\"].append(json.dumps(art))\n",
    "\n",
    "# data = json.dumps(data)\n",
    "\n",
    "with open(\"./results/er_opt.json\", \"w\") as fp:\n",
    "    json.dump(data, fp)"
   ]
  },
  {
   "cell_type": "code",
   "execution_count": 24,
   "metadata": {},
   "outputs": [],
   "source": [
    "with open(\"./results/er_opt.json\", \"r\") as fp:\n",
    "    df = json.load(fp)\n",
    "    for i in range(len(df[\"articles\"])):\n",
    "        df[\"articles\"][i] = json.loads(df[\"articles\"][i])"
   ]
  },
  {
   "cell_type": "code",
   "execution_count": 26,
   "metadata": {},
   "outputs": [
    {
     "data": {
      "text/plain": [
       "[]"
      ]
     },
     "execution_count": 26,
     "metadata": {},
     "output_type": "execute_result"
    }
   ],
   "source": [
    "df[\"articles\"]"
   ]
  },
  {
   "cell_type": "code",
   "execution_count": null,
   "metadata": {},
   "outputs": [],
   "source": []
  },
  {
   "cell_type": "code",
   "execution_count": null,
   "metadata": {},
   "outputs": [],
   "source": [
    "# run stance detection model\n"
   ]
  }
 ],
 "metadata": {
  "kernelspec": {
   "display_name": "FakeNews",
   "language": "python",
   "name": "fakenews"
  },
  "language_info": {
   "codemirror_mode": {
    "name": "ipython",
    "version": 3
   },
   "file_extension": ".py",
   "mimetype": "text/x-python",
   "name": "python",
   "nbconvert_exporter": "python",
   "pygments_lexer": "ipython3",
   "version": "3.7.1"
  }
 },
 "nbformat": 4,
 "nbformat_minor": 2
}
