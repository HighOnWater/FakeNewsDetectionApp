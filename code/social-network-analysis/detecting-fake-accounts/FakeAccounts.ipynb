{
 "cells": [
  {
   "cell_type": "markdown",
   "metadata": {},
   "source": [
    "# Detecting Trolls"
   ]
  },
  {
   "cell_type": "code",
   "execution_count": 6,
   "metadata": {},
   "outputs": [],
   "source": [
    "import pandas as pd\n",
    "import numpy as np"
   ]
  },
  {
   "cell_type": "code",
   "execution_count": 7,
   "metadata": {},
   "outputs": [],
   "source": [
    "df_fake_followers = pd.read_csv(\"data_mib/fake_followers.csv/fake_followers.csv/users.csv\")\n",
    "df_fake_followers.fillna(0, inplace=True)\n",
    "# df_fake_followers.head(3)"
   ]
  },
  {
   "cell_type": "code",
   "execution_count": 8,
   "metadata": {},
   "outputs": [],
   "source": [
    "def viz_df(df):\n",
    "    for col in df.columns:\n",
    "        print(\"column : {}\".format(col))\n",
    "        print(df[col].describe())\n",
    "        print()\n",
    "        print(df[col].value_counts()[:4])\n",
    "        print()\n",
    "        print(\"-------------\")"
   ]
  },
  {
   "cell_type": "code",
   "execution_count": 9,
   "metadata": {},
   "outputs": [],
   "source": [
    "df_genuine_followers = pd.read_csv(\"data_mib/genuine_accounts.csv/users.csv\")\n",
    "df_genuine_followers.fillna(0, inplace=True)\n",
    "# df_genuine_followers.head(3)"
   ]
  },
  {
   "cell_type": "code",
   "execution_count": 10,
   "metadata": {},
   "outputs": [],
   "source": [
    "useful_columns = [\"statuses_count\", \"followers_count\", \"friends_count\", \"favourites_count\", \"listed_count\", \"default_profile\", \"profile_banner_url\", \"profile_background_tile\", \"profile_background_color\" ,\"verified\"]"
   ]
  },
  {
   "cell_type": "code",
   "execution_count": 11,
   "metadata": {},
   "outputs": [],
   "source": [
    "df_fake_followers = df_fake_followers[useful_columns]\n",
    "df_genuine_followers = df_genuine_followers[useful_columns]"
   ]
  },
  {
   "cell_type": "code",
   "execution_count": 12,
   "metadata": {},
   "outputs": [
    {
     "data": {
      "text/html": [
       "<div>\n",
       "<style scoped>\n",
       "    .dataframe tbody tr th:only-of-type {\n",
       "        vertical-align: middle;\n",
       "    }\n",
       "\n",
       "    .dataframe tbody tr th {\n",
       "        vertical-align: top;\n",
       "    }\n",
       "\n",
       "    .dataframe thead th {\n",
       "        text-align: right;\n",
       "    }\n",
       "</style>\n",
       "<table border=\"1\" class=\"dataframe\">\n",
       "  <thead>\n",
       "    <tr style=\"text-align: right;\">\n",
       "      <th></th>\n",
       "      <th>statuses_count</th>\n",
       "      <th>followers_count</th>\n",
       "      <th>friends_count</th>\n",
       "      <th>favourites_count</th>\n",
       "      <th>listed_count</th>\n",
       "      <th>default_profile</th>\n",
       "      <th>profile_banner_url</th>\n",
       "      <th>profile_background_tile</th>\n",
       "      <th>profile_background_color</th>\n",
       "      <th>verified</th>\n",
       "    </tr>\n",
       "  </thead>\n",
       "  <tbody>\n",
       "    <tr>\n",
       "      <th>0</th>\n",
       "      <td>29</td>\n",
       "      <td>19</td>\n",
       "      <td>255</td>\n",
       "      <td>1</td>\n",
       "      <td>0</td>\n",
       "      <td>0.0</td>\n",
       "      <td>0</td>\n",
       "      <td>1.0</td>\n",
       "      <td>131516</td>\n",
       "      <td>0.0</td>\n",
       "    </tr>\n",
       "    <tr>\n",
       "      <th>1</th>\n",
       "      <td>1408</td>\n",
       "      <td>208</td>\n",
       "      <td>866</td>\n",
       "      <td>138</td>\n",
       "      <td>0</td>\n",
       "      <td>0.0</td>\n",
       "      <td>https://si0.twimg.com/profile_banners/82487179...</td>\n",
       "      <td>0.0</td>\n",
       "      <td>709397</td>\n",
       "      <td>0.0</td>\n",
       "    </tr>\n",
       "    <tr>\n",
       "      <th>2</th>\n",
       "      <td>39</td>\n",
       "      <td>59</td>\n",
       "      <td>962</td>\n",
       "      <td>8</td>\n",
       "      <td>0</td>\n",
       "      <td>0.0</td>\n",
       "      <td>0</td>\n",
       "      <td>0.0</td>\n",
       "      <td>022330</td>\n",
       "      <td>0.0</td>\n",
       "    </tr>\n",
       "  </tbody>\n",
       "</table>\n",
       "</div>"
      ],
      "text/plain": [
       "   statuses_count  followers_count  friends_count  favourites_count  \\\n",
       "0              29               19            255                 1   \n",
       "1            1408              208            866               138   \n",
       "2              39               59            962                 8   \n",
       "\n",
       "   listed_count  default_profile  \\\n",
       "0             0              0.0   \n",
       "1             0              0.0   \n",
       "2             0              0.0   \n",
       "\n",
       "                                  profile_banner_url  profile_background_tile  \\\n",
       "0                                                  0                      1.0   \n",
       "1  https://si0.twimg.com/profile_banners/82487179...                      0.0   \n",
       "2                                                  0                      0.0   \n",
       "\n",
       "  profile_background_color  verified  \n",
       "0                   131516       0.0  \n",
       "1                   709397       0.0  \n",
       "2                   022330       0.0  "
      ]
     },
     "execution_count": 12,
     "metadata": {},
     "output_type": "execute_result"
    }
   ],
   "source": [
    "df_fake_followers.head(3)"
   ]
  },
  {
   "cell_type": "code",
   "execution_count": 13,
   "metadata": {},
   "outputs": [
    {
     "name": "stdout",
     "output_type": "stream",
     "text": [
      "column : statuses_count\n",
      "count     3351.000000\n",
      "mean        71.898239\n",
      "std        634.979715\n",
      "min          0.000000\n",
      "25%         16.000000\n",
      "50%         23.000000\n",
      "75%         39.000000\n",
      "max      33128.000000\n",
      "Name: statuses_count, dtype: float64\n",
      "\n",
      "20    159\n",
      "0     138\n",
      "19    130\n",
      "18    128\n",
      "Name: statuses_count, dtype: int64\n",
      "\n",
      "-------------\n",
      "column : followers_count\n",
      "count    3351.000000\n",
      "mean       17.740376\n",
      "std        54.223193\n",
      "min         0.000000\n",
      "25%         8.000000\n",
      "50%        12.000000\n",
      "75%        18.000000\n",
      "max      1624.000000\n",
      "Name: followers_count, dtype: float64\n",
      "\n",
      "8     201\n",
      "13    183\n",
      "12    182\n",
      "9     176\n",
      "Name: followers_count, dtype: int64\n",
      "\n",
      "-------------\n",
      "column : friends_count\n",
      "count    3351.000000\n",
      "mean      370.059684\n",
      "std       212.552488\n",
      "min         0.000000\n",
      "25%       217.000000\n",
      "50%       305.000000\n",
      "75%       529.000000\n",
      "max      2004.000000\n",
      "Name: friends_count, dtype: float64\n",
      "\n",
      "205    29\n",
      "211    27\n",
      "218    26\n",
      "206    23\n",
      "Name: friends_count, dtype: int64\n",
      "\n",
      "-------------\n",
      "column : favourites_count\n",
      "count    3351.000000\n",
      "mean        4.299612\n",
      "std        59.551501\n",
      "min         0.000000\n",
      "25%         0.000000\n",
      "50%         0.000000\n",
      "75%         0.000000\n",
      "max      1402.000000\n",
      "Name: favourites_count, dtype: float64\n",
      "\n",
      "0    2993\n",
      "1     125\n",
      "2      57\n",
      "3      26\n",
      "Name: favourites_count, dtype: int64\n",
      "\n",
      "-------------\n",
      "column : listed_count\n",
      "count    3351.000000\n",
      "mean        0.073113\n",
      "std         0.882176\n",
      "min         0.000000\n",
      "25%         0.000000\n",
      "50%         0.000000\n",
      "75%         0.000000\n",
      "max        32.000000\n",
      "Name: listed_count, dtype: float64\n",
      "\n",
      "0    3252\n",
      "1      69\n",
      "2      15\n",
      "3       4\n",
      "Name: listed_count, dtype: int64\n",
      "\n",
      "-------------\n",
      "column : default_profile\n",
      "count    3351.000000\n",
      "mean        0.905401\n",
      "std         0.292703\n",
      "min         0.000000\n",
      "25%         1.000000\n",
      "50%         1.000000\n",
      "75%         1.000000\n",
      "max         1.000000\n",
      "Name: default_profile, dtype: float64\n",
      "\n",
      "Series([], Name: default_profile, dtype: int64)\n",
      "\n",
      "-------------\n",
      "column : profile_banner_url\n",
      "count     3351\n",
      "unique      68\n",
      "top          0\n",
      "freq      3284\n",
      "Name: profile_banner_url, dtype: int64\n",
      "\n",
      "0                                                             3284\n",
      "https://si0.twimg.com/profile_banners/247046793/1366596027       1\n",
      "https://si0.twimg.com/profile_banners/69412978/1357243055        1\n",
      "https://pbs.twimg.com/profile_banners/299114435/1348495165       1\n",
      "Name: profile_banner_url, dtype: int64\n",
      "\n",
      "-------------\n",
      "column : profile_background_tile\n",
      "count    3351.000000\n",
      "mean        0.050731\n",
      "std         0.219481\n",
      "min         0.000000\n",
      "25%         0.000000\n",
      "50%         0.000000\n",
      "75%         0.000000\n",
      "max         1.000000\n",
      "Name: profile_background_tile, dtype: float64\n",
      "\n",
      "0.0    3181\n",
      "1.0     170\n",
      "Name: profile_background_tile, dtype: int64\n",
      "\n",
      "-------------\n",
      "column : profile_background_color\n",
      "count       3351\n",
      "unique        66\n",
      "top       C0DEED\n",
      "freq        3077\n",
      "Name: profile_background_color, dtype: object\n",
      "\n",
      "C0DEED    3077\n",
      "642D8B      37\n",
      "1A1B1F      29\n",
      "131516      26\n",
      "Name: profile_background_color, dtype: int64\n",
      "\n",
      "-------------\n",
      "column : verified\n",
      "count    3351.0\n",
      "mean        0.0\n",
      "std         0.0\n",
      "min         0.0\n",
      "25%         0.0\n",
      "50%         0.0\n",
      "75%         0.0\n",
      "max         0.0\n",
      "Name: verified, dtype: float64\n",
      "\n",
      "0.0    3351\n",
      "Name: verified, dtype: int64\n",
      "\n",
      "-------------\n"
     ]
    }
   ],
   "source": [
    "viz_df(df_fake_followers)"
   ]
  },
  {
   "cell_type": "code",
   "execution_count": 14,
   "metadata": {},
   "outputs": [
    {
     "name": "stdout",
     "output_type": "stream",
     "text": [
      "column : statuses_count\n",
      "count      3474.000000\n",
      "mean      16958.220207\n",
      "std       30696.286104\n",
      "min           3.000000\n",
      "25%        1810.250000\n",
      "50%        6609.000000\n",
      "75%       19467.000000\n",
      "max      399555.000000\n",
      "Name: statuses_count, dtype: float64\n",
      "\n",
      "96     5\n",
      "410    5\n",
      "633    4\n",
      "718    4\n",
      "Name: statuses_count, dtype: int64\n",
      "\n",
      "-------------\n",
      "column : followers_count\n",
      "count      3474.000000\n",
      "mean       1393.219632\n",
      "std       17216.664524\n",
      "min           1.000000\n",
      "25%         149.000000\n",
      "50%         341.000000\n",
      "75%         803.750000\n",
      "max      986837.000000\n",
      "Name: followers_count, dtype: float64\n",
      "\n",
      "26     15\n",
      "243    13\n",
      "123    12\n",
      "79     12\n",
      "Name: followers_count, dtype: int64\n",
      "\n",
      "-------------\n",
      "column : friends_count\n",
      "count     3474.000000\n",
      "mean       633.242372\n",
      "std       1600.962972\n",
      "min          0.000000\n",
      "25%        169.000000\n",
      "50%        319.000000\n",
      "75%        635.750000\n",
      "max      46310.000000\n",
      "Name: friends_count, dtype: float64\n",
      "\n",
      "320     13\n",
      "262     13\n",
      "2001    13\n",
      "97      12\n",
      "Name: friends_count, dtype: int64\n",
      "\n",
      "-------------\n",
      "column : favourites_count\n",
      "count      3474.000000\n",
      "mean       4669.620322\n",
      "std       11527.566663\n",
      "min           0.000000\n",
      "25%         261.250000\n",
      "50%        1286.000000\n",
      "75%        4727.000000\n",
      "max      313954.000000\n",
      "Name: favourites_count, dtype: float64\n",
      "\n",
      "0    33\n",
      "1    19\n",
      "3    17\n",
      "9    14\n",
      "Name: favourites_count, dtype: int64\n",
      "\n",
      "-------------\n",
      "column : listed_count\n",
      "count    3474.000000\n",
      "mean       19.496546\n",
      "std       157.740969\n",
      "min         0.000000\n",
      "25%         0.000000\n",
      "50%         2.000000\n",
      "75%         8.000000\n",
      "max      6166.000000\n",
      "Name: listed_count, dtype: float64\n",
      "\n",
      "0    946\n",
      "1    537\n",
      "2    348\n",
      "3    252\n",
      "Name: listed_count, dtype: int64\n",
      "\n",
      "-------------\n",
      "column : default_profile\n",
      "count    3474.000000\n",
      "mean        0.297064\n",
      "std         0.457031\n",
      "min         0.000000\n",
      "25%         0.000000\n",
      "50%         0.000000\n",
      "75%         1.000000\n",
      "max         1.000000\n",
      "Name: default_profile, dtype: float64\n",
      "\n",
      "0.0    2442\n",
      "1.0    1032\n",
      "Name: default_profile, dtype: int64\n",
      "\n",
      "-------------\n",
      "column : profile_banner_url\n",
      "count     3474\n",
      "unique    3166\n",
      "top          0\n",
      "freq       309\n",
      "Name: profile_banner_url, dtype: int64\n",
      "\n",
      "0                                                             309\n",
      "https://pbs.twimg.com/profile_banners/382624095/1429595315      1\n",
      "https://pbs.twimg.com/profile_banners/297808691/1428649939      1\n",
      "https://pbs.twimg.com/profile_banners/176469051/1423238435      1\n",
      "Name: profile_banner_url, dtype: int64\n",
      "\n",
      "-------------\n",
      "column : profile_background_tile\n",
      "count    3474.000000\n",
      "mean        0.376223\n",
      "std         0.484507\n",
      "min         0.000000\n",
      "25%         0.000000\n",
      "50%         0.000000\n",
      "75%         1.000000\n",
      "max         1.000000\n",
      "Name: profile_background_tile, dtype: float64\n",
      "\n",
      "0.0    2167\n",
      "1.0    1307\n",
      "Name: profile_background_tile, dtype: int64\n",
      "\n",
      "-------------\n",
      "column : profile_background_color\n",
      "count       3474\n",
      "unique       502\n",
      "top       C0DEED\n",
      "freq        1343\n",
      "Name: profile_background_color, dtype: object\n",
      "\n",
      "C0DEED    1343\n",
      "000000     349\n",
      "131516     198\n",
      "FFFFFF     144\n",
      "Name: profile_background_color, dtype: int64\n",
      "\n",
      "-------------\n",
      "column : verified\n",
      "count    3474.000000\n",
      "mean        0.003166\n",
      "std         0.056190\n",
      "min         0.000000\n",
      "25%         0.000000\n",
      "50%         0.000000\n",
      "75%         0.000000\n",
      "max         1.000000\n",
      "Name: verified, dtype: float64\n",
      "\n",
      "0.0    3463\n",
      "1.0      11\n",
      "Name: verified, dtype: int64\n",
      "\n",
      "-------------\n"
     ]
    }
   ],
   "source": [
    "viz_df(df_genuine_followers)"
   ]
  },
  {
   "cell_type": "markdown",
   "metadata": {},
   "source": [
    "## FIX the Data Frame"
   ]
  },
  {
   "cell_type": "code",
   "execution_count": 15,
   "metadata": {
    "scrolled": true
   },
   "outputs": [],
   "source": [
    "def fix_df(df):\n",
    "    # fix profile_banner_url `1 == present` `0 == absent`\n",
    "    df[\"profile_banner_url\"][df[\"profile_banner_url\"] != 0] = 1\n",
    "    # fix profile_background_color `1 == not default` `0 == default`\n",
    "    df[\"profile_background_color\"][df[\"profile_background_color\"] != \"C0DEED\"] = 1\n",
    "    df[\"profile_background_color\"][df[\"profile_background_color\"] == \"C0DEED\"] = 0\n",
    "    return df"
   ]
  },
  {
   "cell_type": "code",
   "execution_count": 16,
   "metadata": {},
   "outputs": [
    {
     "name": "stderr",
     "output_type": "stream",
     "text": [
      "c:\\users\\joavi\\anaconda3\\envs\\py36\\lib\\site-packages\\ipykernel_launcher.py:6: SettingWithCopyWarning: \n",
      "A value is trying to be set on a copy of a slice from a DataFrame\n",
      "\n",
      "See the caveats in the documentation: http://pandas.pydata.org/pandas-docs/stable/indexing.html#indexing-view-versus-copy\n",
      "  \n"
     ]
    }
   ],
   "source": [
    "df_fake_followers = fix_df(df_fake_followers)\n",
    "df_genuine_followers = fix_df(df_genuine_followers)"
   ]
  },
  {
   "cell_type": "code",
   "execution_count": 17,
   "metadata": {
    "scrolled": true
   },
   "outputs": [
    {
     "data": {
      "text/plain": [
       "statuses_count                int64\n",
       "followers_count               int64\n",
       "friends_count                 int64\n",
       "favourites_count              int64\n",
       "listed_count                  int64\n",
       "default_profile             float64\n",
       "profile_banner_url            int64\n",
       "profile_background_tile     float64\n",
       "profile_background_color      int64\n",
       "verified                    float64\n",
       "dtype: object"
      ]
     },
     "execution_count": 17,
     "metadata": {},
     "output_type": "execute_result"
    }
   ],
   "source": [
    "df_genuine_followers = df_genuine_followers.apply(pd.to_numeric)\n",
    "df_fake_followers = df_fake_followers.apply(pd.to_numeric)\n",
    "df_genuine_followers.dtypes"
   ]
  },
  {
   "cell_type": "code",
   "execution_count": 18,
   "metadata": {
    "scrolled": true
   },
   "outputs": [
    {
     "data": {
      "text/html": [
       "<div>\n",
       "<style scoped>\n",
       "    .dataframe tbody tr th:only-of-type {\n",
       "        vertical-align: middle;\n",
       "    }\n",
       "\n",
       "    .dataframe tbody tr th {\n",
       "        vertical-align: top;\n",
       "    }\n",
       "\n",
       "    .dataframe thead th {\n",
       "        text-align: right;\n",
       "    }\n",
       "</style>\n",
       "<table border=\"1\" class=\"dataframe\">\n",
       "  <thead>\n",
       "    <tr style=\"text-align: right;\">\n",
       "      <th></th>\n",
       "      <th>statuses_count</th>\n",
       "      <th>followers_count</th>\n",
       "      <th>friends_count</th>\n",
       "      <th>favourites_count</th>\n",
       "      <th>listed_count</th>\n",
       "      <th>default_profile</th>\n",
       "      <th>profile_banner_url</th>\n",
       "      <th>profile_background_tile</th>\n",
       "      <th>profile_background_color</th>\n",
       "      <th>verified</th>\n",
       "    </tr>\n",
       "  </thead>\n",
       "  <tbody>\n",
       "    <tr>\n",
       "      <th>0</th>\n",
       "      <td>2177</td>\n",
       "      <td>208</td>\n",
       "      <td>332</td>\n",
       "      <td>265</td>\n",
       "      <td>1</td>\n",
       "      <td>0.0</td>\n",
       "      <td>1</td>\n",
       "      <td>0.0</td>\n",
       "      <td>1</td>\n",
       "      <td>0.0</td>\n",
       "    </tr>\n",
       "    <tr>\n",
       "      <th>1</th>\n",
       "      <td>2660</td>\n",
       "      <td>330</td>\n",
       "      <td>485</td>\n",
       "      <td>3972</td>\n",
       "      <td>5</td>\n",
       "      <td>1.0</td>\n",
       "      <td>1</td>\n",
       "      <td>0.0</td>\n",
       "      <td>0</td>\n",
       "      <td>0.0</td>\n",
       "    </tr>\n",
       "    <tr>\n",
       "      <th>2</th>\n",
       "      <td>1254</td>\n",
       "      <td>166</td>\n",
       "      <td>177</td>\n",
       "      <td>1185</td>\n",
       "      <td>0</td>\n",
       "      <td>0.0</td>\n",
       "      <td>1</td>\n",
       "      <td>1.0</td>\n",
       "      <td>1</td>\n",
       "      <td>0.0</td>\n",
       "    </tr>\n",
       "  </tbody>\n",
       "</table>\n",
       "</div>"
      ],
      "text/plain": [
       "   statuses_count  followers_count  friends_count  favourites_count  \\\n",
       "0            2177              208            332               265   \n",
       "1            2660              330            485              3972   \n",
       "2            1254              166            177              1185   \n",
       "\n",
       "   listed_count  default_profile  profile_banner_url  profile_background_tile  \\\n",
       "0             1              0.0                   1                      0.0   \n",
       "1             5              1.0                   1                      0.0   \n",
       "2             0              0.0                   1                      1.0   \n",
       "\n",
       "   profile_background_color  verified  \n",
       "0                         1       0.0  \n",
       "1                         0       0.0  \n",
       "2                         1       0.0  "
      ]
     },
     "execution_count": 18,
     "metadata": {},
     "output_type": "execute_result"
    }
   ],
   "source": [
    "df_genuine_followers.head(3)"
   ]
  },
  {
   "cell_type": "code",
   "execution_count": 19,
   "metadata": {},
   "outputs": [
    {
     "data": {
      "text/html": [
       "<div>\n",
       "<style scoped>\n",
       "    .dataframe tbody tr th:only-of-type {\n",
       "        vertical-align: middle;\n",
       "    }\n",
       "\n",
       "    .dataframe tbody tr th {\n",
       "        vertical-align: top;\n",
       "    }\n",
       "\n",
       "    .dataframe thead th {\n",
       "        text-align: right;\n",
       "    }\n",
       "</style>\n",
       "<table border=\"1\" class=\"dataframe\">\n",
       "  <thead>\n",
       "    <tr style=\"text-align: right;\">\n",
       "      <th></th>\n",
       "      <th>statuses_count</th>\n",
       "      <th>followers_count</th>\n",
       "      <th>friends_count</th>\n",
       "      <th>favourites_count</th>\n",
       "      <th>listed_count</th>\n",
       "      <th>default_profile</th>\n",
       "      <th>profile_banner_url</th>\n",
       "      <th>profile_background_tile</th>\n",
       "      <th>profile_background_color</th>\n",
       "      <th>verified</th>\n",
       "    </tr>\n",
       "  </thead>\n",
       "  <tbody>\n",
       "    <tr>\n",
       "      <th>0</th>\n",
       "      <td>29</td>\n",
       "      <td>19</td>\n",
       "      <td>255</td>\n",
       "      <td>1</td>\n",
       "      <td>0</td>\n",
       "      <td>0.0</td>\n",
       "      <td>0</td>\n",
       "      <td>1.0</td>\n",
       "      <td>1</td>\n",
       "      <td>0.0</td>\n",
       "    </tr>\n",
       "    <tr>\n",
       "      <th>1</th>\n",
       "      <td>1408</td>\n",
       "      <td>208</td>\n",
       "      <td>866</td>\n",
       "      <td>138</td>\n",
       "      <td>0</td>\n",
       "      <td>0.0</td>\n",
       "      <td>1</td>\n",
       "      <td>0.0</td>\n",
       "      <td>1</td>\n",
       "      <td>0.0</td>\n",
       "    </tr>\n",
       "    <tr>\n",
       "      <th>2</th>\n",
       "      <td>39</td>\n",
       "      <td>59</td>\n",
       "      <td>962</td>\n",
       "      <td>8</td>\n",
       "      <td>0</td>\n",
       "      <td>0.0</td>\n",
       "      <td>0</td>\n",
       "      <td>0.0</td>\n",
       "      <td>1</td>\n",
       "      <td>0.0</td>\n",
       "    </tr>\n",
       "  </tbody>\n",
       "</table>\n",
       "</div>"
      ],
      "text/plain": [
       "   statuses_count  followers_count  friends_count  favourites_count  \\\n",
       "0              29               19            255                 1   \n",
       "1            1408              208            866               138   \n",
       "2              39               59            962                 8   \n",
       "\n",
       "   listed_count  default_profile  profile_banner_url  profile_background_tile  \\\n",
       "0             0              0.0                   0                      1.0   \n",
       "1             0              0.0                   1                      0.0   \n",
       "2             0              0.0                   0                      0.0   \n",
       "\n",
       "   profile_background_color  verified  \n",
       "0                         1       0.0  \n",
       "1                         1       0.0  \n",
       "2                         1       0.0  "
      ]
     },
     "execution_count": 19,
     "metadata": {},
     "output_type": "execute_result"
    }
   ],
   "source": [
    "df_fake_followers.head(3)"
   ]
  },
  {
   "cell_type": "code",
   "execution_count": 20,
   "metadata": {},
   "outputs": [],
   "source": [
    "from sklearn.preprocessing import MinMaxScaler\n",
    "from sklearn.model_selection import train_test_split"
   ]
  },
  {
   "cell_type": "code",
   "execution_count": 21,
   "metadata": {},
   "outputs": [],
   "source": [
    "mms = MinMaxScaler()"
   ]
  },
  {
   "cell_type": "code",
   "execution_count": 22,
   "metadata": {},
   "outputs": [],
   "source": [
    "fake_accounts_values =  df_fake_followers.values.copy()\n",
    "genuine_accounts_values = df_genuine_followers.values.copy()"
   ]
  },
  {
   "cell_type": "code",
   "execution_count": 23,
   "metadata": {},
   "outputs": [
    {
     "data": {
      "text/plain": [
       "(6825, 10)"
      ]
     },
     "execution_count": 23,
     "metadata": {},
     "output_type": "execute_result"
    }
   ],
   "source": [
    "all_data = np.concatenate((fake_accounts_values, genuine_accounts_values), axis=0)\n",
    "all_data.shape"
   ]
  },
  {
   "cell_type": "code",
   "execution_count": 24,
   "metadata": {},
   "outputs": [
    {
     "data": {
      "text/plain": [
       "MinMaxScaler(copy=True, feature_range=(0, 1))"
      ]
     },
     "execution_count": 24,
     "metadata": {},
     "output_type": "execute_result"
    }
   ],
   "source": [
    "mms.fit(all_data)"
   ]
  },
  {
   "cell_type": "code",
   "execution_count": 25,
   "metadata": {},
   "outputs": [],
   "source": [
    "fake_accounts_values_scaled = mms.transform(fake_accounts_values)\n",
    "genuine_accounts_values_scaled = mms.transform(genuine_accounts_values)"
   ]
  },
  {
   "cell_type": "code",
   "execution_count": 26,
   "metadata": {},
   "outputs": [],
   "source": [
    "lf, lg = len(fake_accounts_values), len(genuine_accounts_values)"
   ]
  },
  {
   "cell_type": "code",
   "execution_count": 27,
   "metadata": {},
   "outputs": [],
   "source": [
    "Y_train = [0 for i in range(lf)] + [1 for i in range(lg)]"
   ]
  },
  {
   "cell_type": "code",
   "execution_count": 28,
   "metadata": {},
   "outputs": [],
   "source": [
    "X_train = np.concatenate((fake_accounts_values_scaled, genuine_accounts_values_scaled), axis=0)"
   ]
  },
  {
   "cell_type": "code",
   "execution_count": 29,
   "metadata": {},
   "outputs": [
    {
     "data": {
      "text/plain": [
       "((3351, 10), (3474, 10), (6825, 10))"
      ]
     },
     "execution_count": 29,
     "metadata": {},
     "output_type": "execute_result"
    }
   ],
   "source": [
    "fake_accounts_values_scaled.shape, genuine_accounts_values_scaled.shape, X_train.shape"
   ]
  },
  {
   "cell_type": "code",
   "execution_count": 30,
   "metadata": {},
   "outputs": [],
   "source": [
    "X_train, X_test, y_train, y_test = train_test_split(X_train, Y_train, test_size=0.3, random_state=42)"
   ]
  },
  {
   "cell_type": "code",
   "execution_count": 31,
   "metadata": {},
   "outputs": [],
   "source": [
    "import pickle\n",
    "data_2_save = {\n",
    "    \"train_data\": X_train,\n",
    "    \"train_labels\": y_train,\n",
    "    \"test_data\": X_test,\n",
    "    \"test_labels\": y_test\n",
    "}\n",
    "pickle.dump(file=open(\"fake_account_preprocessed.dat\", \"wb\"), obj=data_2_save)"
   ]
  },
  {
   "cell_type": "code",
   "execution_count": 32,
   "metadata": {},
   "outputs": [],
   "source": [
    "from sklearn.linear_model import LogisticRegression"
   ]
  },
  {
   "cell_type": "code",
   "execution_count": 33,
   "metadata": {},
   "outputs": [
    {
     "name": "stderr",
     "output_type": "stream",
     "text": [
      "c:\\users\\joavi\\anaconda3\\envs\\py36\\lib\\site-packages\\sklearn\\linear_model\\logistic.py:433: FutureWarning: Default solver will be changed to 'lbfgs' in 0.22. Specify a solver to silence this warning.\n",
      "  FutureWarning)\n"
     ]
    },
    {
     "data": {
      "text/plain": [
       "0.958984375"
      ]
     },
     "execution_count": 33,
     "metadata": {},
     "output_type": "execute_result"
    }
   ],
   "source": [
    "clf_logistic = LogisticRegression()\n",
    "clf_logistic.fit(X_train, y_train)\n",
    "clf_logistic.score(X_test, y_test)"
   ]
  },
  {
   "cell_type": "code",
   "execution_count": 34,
   "metadata": {},
   "outputs": [],
   "source": [
    "from sklearn.svm import LinearSVC"
   ]
  },
  {
   "cell_type": "code",
   "execution_count": 36,
   "metadata": {},
   "outputs": [
    {
     "data": {
      "text/plain": [
       "0.96142578125"
      ]
     },
     "execution_count": 36,
     "metadata": {},
     "output_type": "execute_result"
    }
   ],
   "source": [
    "clf_svc_linear = LinearSVC()\n",
    "clf_svc_linear.fit(X_train, y_train)\n",
    "clf_svc_linear.score(X_test, y_test)"
   ]
  },
  {
   "cell_type": "code",
   "execution_count": 37,
   "metadata": {},
   "outputs": [],
   "source": [
    "from sklearn.tree import DecisionTreeClassifier"
   ]
  },
  {
   "cell_type": "code",
   "execution_count": 38,
   "metadata": {},
   "outputs": [
    {
     "data": {
      "text/plain": [
       "0.98583984375"
      ]
     },
     "execution_count": 38,
     "metadata": {},
     "output_type": "execute_result"
    }
   ],
   "source": [
    "clf_dtree = DecisionTreeClassifier()\n",
    "clf_dtree.fit(X_train, y_train)\n",
    "clf_dtree.score(X_test, y_test)"
   ]
  },
  {
   "cell_type": "code",
   "execution_count": 39,
   "metadata": {},
   "outputs": [],
   "source": [
    "from sklearn.svm import SVC"
   ]
  },
  {
   "cell_type": "code",
   "execution_count": 40,
   "metadata": {
    "scrolled": false
   },
   "outputs": [
    {
     "name": "stderr",
     "output_type": "stream",
     "text": [
      "c:\\users\\joavi\\anaconda3\\envs\\py36\\lib\\site-packages\\sklearn\\svm\\base.py:196: FutureWarning: The default value of gamma will change from 'auto' to 'scale' in version 0.22 to account better for unscaled features. Set gamma explicitly to 'auto' or 'scale' to avoid this warning.\n",
      "  \"avoid this warning.\", FutureWarning)\n"
     ]
    },
    {
     "data": {
      "text/plain": [
       "0.95654296875"
      ]
     },
     "execution_count": 40,
     "metadata": {},
     "output_type": "execute_result"
    }
   ],
   "source": [
    "clf_svc = SVC()\n",
    "clf_svc.fit(X_train, y_train)\n",
    "clf_svc.score(X_test, y_test)"
   ]
  },
  {
   "cell_type": "code",
   "execution_count": 38,
   "metadata": {},
   "outputs": [],
   "source": [
    "from sklearn.neural_network import MLPClassifier"
   ]
  },
  {
   "cell_type": "code",
   "execution_count": 47,
   "metadata": {
    "scrolled": true
   },
   "outputs": [
    {
     "name": "stderr",
     "output_type": "stream",
     "text": [
      "c:\\users\\joavi\\anaconda3\\envs\\py36\\lib\\site-packages\\sklearn\\neural_network\\multilayer_perceptron.py:562: ConvergenceWarning: Stochastic Optimizer: Maximum iterations (200) reached and the optimization hasn't converged yet.\n",
      "  % self.max_iter, ConvergenceWarning)\n"
     ]
    },
    {
     "data": {
      "text/plain": [
       "0.97509765625"
      ]
     },
     "execution_count": 47,
     "metadata": {},
     "output_type": "execute_result"
    }
   ],
   "source": [
    "clf_mlp = MLPClassifier(activation='relu', hidden_layer_sizes=[512])\n",
    "clf_mlp.fit(X_train, y_train)\n",
    "clf_mlp.score(X_test, y_test)"
   ]
  },
  {
   "cell_type": "code",
   "execution_count": 41,
   "metadata": {},
   "outputs": [],
   "source": [
    "from sklearn.neighbors import KNeighborsClassifier"
   ]
  },
  {
   "cell_type": "code",
   "execution_count": 42,
   "metadata": {},
   "outputs": [
    {
     "name": "stdout",
     "output_type": "stream",
     "text": [
      "0.98193359375\n"
     ]
    }
   ],
   "source": [
    "clf_knn = KNeighborsClassifier(n_neighbors=9)\n",
    "clf_knn.fit(X_train, y_train)\n",
    "print(clf_knn.score(X_test, y_test))"
   ]
  },
  {
   "cell_type": "code",
   "execution_count": 43,
   "metadata": {},
   "outputs": [],
   "source": [
    "from sklearn.ensemble import RandomForestClassifier"
   ]
  },
  {
   "cell_type": "code",
   "execution_count": 44,
   "metadata": {},
   "outputs": [
    {
     "name": "stdout",
     "output_type": "stream",
     "text": [
      "0.99365234375\n"
     ]
    }
   ],
   "source": [
    "clf_rfc = RandomForestClassifier(n_estimators=1000)\n",
    "clf_rfc.fit(X_train, y_train)\n",
    "print(clf_rfc.score(X_test, y_test))"
   ]
  },
  {
   "cell_type": "code",
   "execution_count": 45,
   "metadata": {},
   "outputs": [],
   "source": [
    "from sklearn.ensemble import AdaBoostClassifier"
   ]
  },
  {
   "cell_type": "code",
   "execution_count": 46,
   "metadata": {},
   "outputs": [
    {
     "name": "stdout",
     "output_type": "stream",
     "text": [
      "0.99072265625\n"
     ]
    }
   ],
   "source": [
    "clf_ada = AdaBoostClassifier(n_estimators=1000, learning_rate=0.01)\n",
    "clf_ada.fit(X_train, y_train)\n",
    "print(clf_ada.score(X_test, y_test))"
   ]
  },
  {
   "cell_type": "code",
   "execution_count": 47,
   "metadata": {},
   "outputs": [],
   "source": [
    "import pickle\n",
    "s = pickle.dump(file=open(\"fake_account_model.dat\", \"wb\"), obj={\"classifier\": clf_ada, \"scaler\": mms})"
   ]
  },
  {
   "cell_type": "code",
   "execution_count": 54,
   "metadata": {},
   "outputs": [],
   "source": [
    "from sklearn.feature_selection import SelectKBest, chi2"
   ]
  },
  {
   "cell_type": "code",
   "execution_count": 55,
   "metadata": {
    "scrolled": true
   },
   "outputs": [
    {
     "name": "stdout",
     "output_type": "stream",
     "text": [
      "98.13643210484514\n",
      "3.510813571919454\n",
      "3.843803610210142\n",
      "35.1134645977112\n",
      "7.2148795838478526\n",
      "728.7972958116159\n",
      "1948.2616107180488\n",
      "566.0702799272622\n",
      "923.1842847021321\n",
      "9.371451743714518\n"
     ]
    }
   ],
   "source": [
    "selector = SelectKBest(chi2, k='all').fit(X_train,y_train)\n",
    "print(*selector.scores_, sep=\"\\n\")"
   ]
  },
  {
   "cell_type": "code",
   "execution_count": 57,
   "metadata": {},
   "outputs": [],
   "source": [
    "import itertools\n",
    "import numpy as np\n",
    "from sklearn.metrics import confusion_matrix\n",
    "import matplotlib.pyplot as plt"
   ]
  },
  {
   "cell_type": "code",
   "execution_count": 58,
   "metadata": {},
   "outputs": [],
   "source": [
    "def plot_confusion_matrix(cm, classes,\n",
    "                          normalize=False,\n",
    "                          title='Confusion matrix',\n",
    "                          cmap=plt.cm.Blues):\n",
    "\n",
    "    \"\"\"\n",
    "    This function prints and plots the confusion matrix.\n",
    "    Normalization can be applied by setting `normalize=True`.\n",
    "    \"\"\"\n",
    "    if normalize:\n",
    "        cm = cm.astype('float') / cm.sum(axis=1)[:, np.newaxis]\n",
    "        print(\"Normalized confusion matrix\")\n",
    "    else:\n",
    "        print('Confusion matrix, without normalization')\n",
    "\n",
    "    print(cm)\n",
    "\n",
    "    plt.imshow(cm, interpolation='nearest', cmap=cmap)\n",
    "    plt.title(title)\n",
    "    plt.colorbar()\n",
    "    tick_marks = np.arange(len(classes))\n",
    "    plt.xticks(tick_marks, classes, rotation=45)\n",
    "    plt.yticks(tick_marks, classes)\n",
    "\n",
    "    fmt = '.2f' if normalize else 'd'\n",
    "    thresh = cm.max() / 2.\n",
    "    for i, j in itertools.product(range(cm.shape[0]), range(cm.shape[1])):\n",
    "        plt.text(j, i, format(cm[i, j], fmt),\n",
    "                 horizontalalignment=\"center\",\n",
    "                 color=\"white\" if cm[i, j] > thresh else \"black\")\n",
    "\n",
    "    plt.ylabel('True label')\n",
    "    plt.xlabel('Predicted label')\n",
    "    plt.tight_layout()"
   ]
  },
  {
   "cell_type": "code",
   "execution_count": 59,
   "metadata": {},
   "outputs": [],
   "source": [
    "%matplotlib inline"
   ]
  },
  {
   "cell_type": "code",
   "execution_count": 67,
   "metadata": {},
   "outputs": [],
   "source": [
    "def plot_cnf(clf, X_test, y_test):\n",
    "    y_pred = clf.predict(X_test)\n",
    "    cnf_matrix = confusion_matrix(y_test, y_pred)\n",
    "#     cnf_matrix = np.array([[1045, 3], [14, 820]])\n",
    "    np.set_printoptions(precision=2)\n",
    "    plt.figure()\n",
    "    plot_confusion_matrix(cnf_matrix, classes=['Disagreement', 'Agreement'],\n",
    "                      title='Confusion matrix')"
   ]
  },
  {
   "cell_type": "code",
   "execution_count": 69,
   "metadata": {},
   "outputs": [
    {
     "name": "stdout",
     "output_type": "stream",
     "text": [
      "Confusion matrix, without normalization\n",
      "[[1026   14]\n",
      " [  23  985]]\n"
     ]
    },
    {
     "data": {
      "image/png": "[encoded data removed]",
      "text/plain": [
       "<Figure size 432x288 with 2 Axes>"
      ]
     },
     "metadata": {
      "needs_background": "light"
     },
     "output_type": "display_data"
    }
   ],
   "source": [
    "plot_cnf(clf_knn, X_test, y_test)"
   ]
  }
 ],
 "metadata": {
  "kernelspec": {
   "display_name": "Python 3",
   "language": "python",
   "name": "python3"
  },
  "language_info": {
   "codemirror_mode": {
    "name": "ipython",
    "version": 3
   },
   "file_extension": ".py",
   "mimetype": "text/x-python",
   "name": "python",
   "nbconvert_exporter": "python",
   "pygments_lexer": "ipython3",
   "version": "3.6.7"
  }
 },
 "nbformat": 4,
 "nbformat_minor": 2
}
